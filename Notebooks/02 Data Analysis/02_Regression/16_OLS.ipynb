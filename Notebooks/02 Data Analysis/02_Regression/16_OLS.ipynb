{
 "cells": [
  {
   "cell_type": "markdown",
   "metadata": {},
   "source": [
    "# Data Analysis (Regression): OLS Regression (OLS)\n",
    "Ordinary Least Squares estimates parameters in a linear regression model through minimizing the sum of the squares of the differences between the observed dependent variables and those predicted by the linear function."
   ]
  },
  {
   "cell_type": "markdown",
   "metadata": {},
   "source": [
    "## Import Libraries"
   ]
  },
  {
   "cell_type": "code",
   "execution_count": 1,
   "metadata": {},
   "outputs": [],
   "source": [
    "# Import Required Modules and Packages\n",
    "import numpy as np\n",
    "import pandas as pd\n",
    "import seaborn as sns\n",
    "import matplotlib\n",
    "import sys\n",
    "import statsmodels.api as sm\n",
    "\n",
    "import matplotlib.pyplot as plt \n",
    "from sklearn import linear_model\n",
    "from sklearn.linear_model import LinearRegression\n",
    "from sklearn.model_selection import cross_val_score"
   ]
  },
  {
   "cell_type": "code",
   "execution_count": 2,
   "metadata": {},
   "outputs": [
    {
     "name": "stdout",
     "output_type": "stream",
     "text": [
      "/root\n"
     ]
    }
   ],
   "source": [
    "cd"
   ]
  },
  {
   "cell_type": "markdown",
   "metadata": {},
   "source": [
    "## Load Data"
   ]
  },
  {
   "cell_type": "code",
   "execution_count": 3,
   "metadata": {},
   "outputs": [],
   "source": [
    "# Upload the X and y Data\n",
    "X = pd.read_csv('Project/Cleaned/Regression/X.csv', na_values = ['..'])\n",
    "y = pd.read_csv('Project/Cleaned/Regression/y.csv', na_values = ['..'])\n",
    "X_train = pd.read_csv('Project/Cleaned/Regression/X_train.csv', na_values = ['..'])\n",
    "X_test = pd.read_csv('Project/Cleaned/Regression/X_test.csv', na_values = ['..'])\n",
    "y_train = pd.read_csv('Project/Cleaned/Regression/y_train.csv', na_values = ['..'])\n",
    "y_test = pd.read_csv('Project/Cleaned/Regression/y_test.csv', na_values = ['..'])\n",
    "\n",
    "# Drop Column\n",
    "X.drop(['Unnamed: 0'], axis=1, inplace=True)\n",
    "y.drop(['Unnamed: 0'], axis=1, inplace=True)\n",
    "X_train.drop(['Unnamed: 0'], axis=1, inplace=True)\n",
    "X_test.drop(['Unnamed: 0'], axis=1, inplace=True)\n",
    "y_train.drop(['Unnamed: 0'], axis=1, inplace=True)\n",
    "y_test.drop(['Unnamed: 0'], axis=1, inplace=True)\n",
    "\n",
    "# Load Dictionary\n",
    "dictionary_series = np.load('Project/Cleaned/dictionary_series.npy',allow_pickle='TRUE').item()"
   ]
  },
  {
   "cell_type": "code",
   "execution_count": 4,
   "metadata": {},
   "outputs": [
    {
     "name": "stdout",
     "output_type": "stream",
     "text": [
      "X_test: (999, 20)\n",
      "y_test: (999, 1)\n",
      "X_train: (3993, 20)\n",
      "y_train: (3993, 1)\n"
     ]
    }
   ],
   "source": [
    "# Shape of Train and Test Data\n",
    "print('X_test:', X_test.shape)\n",
    "print('y_test:', y_test.shape)\n",
    "print('X_train:', X_train.shape)\n",
    "print('y_train:', y_train.shape)"
   ]
  },
  {
   "cell_type": "markdown",
   "metadata": {},
   "source": [
    "## OLS"
   ]
  },
  {
   "cell_type": "code",
   "execution_count": 5,
   "metadata": {},
   "outputs": [
    {
     "name": "stdout",
     "output_type": "stream",
     "text": [
      "                            OLS Regression Results                            \n",
      "==============================================================================\n",
      "Dep. Variable:                      y   R-squared:                       0.294\n",
      "Model:                            OLS   Adj. R-squared:                  0.292\n",
      "Method:                 Least Squares   F-statistic:                     103.7\n",
      "Date:                Wed, 23 Sep 2020   Prob (F-statistic):               0.00\n",
      "Time:                        04:15:33   Log-Likelihood:                -9889.3\n",
      "No. Observations:                4992   AIC:                         1.982e+04\n",
      "Df Residuals:                    4971   BIC:                         1.996e+04\n",
      "Df Model:                          20                                         \n",
      "Covariance Type:            nonrobust                                         \n",
      "=====================================================================================\n",
      "                        coef    std err          t      P>|t|      [0.025      0.975]\n",
      "-------------------------------------------------------------------------------------\n",
      "const                 1.0555      0.025     42.419      0.000       1.007       1.104\n",
      "DT.NFL.UNDP.CD        0.0366      0.040      0.919      0.358      -0.042       0.115\n",
      "DT.NFL.UNFP.CD        0.3680      0.038      9.757      0.000       0.294       0.442\n",
      "EG.CFT.ACCS.ZS        0.2991      0.050      6.014      0.000       0.202       0.397\n",
      "EG.ELC.ACCS.RU.ZS    -0.0033      0.052     -0.064      0.949      -0.105       0.099\n",
      "EG.ELC.ACCS.UR.ZS     0.0265      0.044      0.596      0.551      -0.061       0.114\n",
      "EG.FEC.RNEW.ZS        0.3966      0.043      9.198      0.000       0.312       0.481\n",
      "IT.MLT.MAIN.P2       -0.2892      0.035     -8.337      0.000      -0.357      -0.221\n",
      "NV.AGR.TOTL.ZS       -0.0989      0.041     -2.405      0.016      -0.180      -0.018\n",
      "SE.PRM.ENRL.TC.ZS     0.0468      0.045      1.036      0.300      -0.042       0.135\n",
      "SE.PRM.NENR          -0.1871      0.035     -5.373      0.000      -0.255      -0.119\n",
      "SE.PRM.TCHR.FE.ZS    -0.1188      0.043     -2.774      0.006      -0.203      -0.035\n",
      "SE.SEC.ENRR           0.1304      0.049      2.660      0.008       0.034       0.226\n",
      "SE.SEC.NENR          -0.1589      0.041     -3.913      0.000      -0.238      -0.079\n",
      "SH.ANM.ALLW.ZS        0.0828      0.039      2.134      0.033       0.007       0.159\n",
      "SH.DTH.COMM.ZS        0.2736      0.060      4.591      0.000       0.157       0.390\n",
      "SH.DYN.0514           0.0320      0.042      0.769      0.442      -0.050       0.114\n",
      "SH.STA.BRTC.ZS        0.2320      0.043      5.429      0.000       0.148       0.316\n",
      "SH.TBS.DTEC.ZS       -0.0999      0.037     -2.672      0.008      -0.173      -0.027\n",
      "SL.AGR.EMPL.FE.ZS     0.2558      0.043      6.014      0.000       0.172       0.339\n",
      "SP.ADO.TFRT          -0.0374      0.042     -0.889      0.374      -0.120       0.045\n",
      "==============================================================================\n",
      "Omnibus:                     1860.662   Durbin-Watson:                   0.540\n",
      "Prob(Omnibus):                  0.000   Jarque-Bera (JB):             7509.641\n",
      "Skew:                           1.821   Prob(JB):                         0.00\n",
      "Kurtosis:                       7.779   Cond. No.                         9.41\n",
      "==============================================================================\n",
      "\n",
      "Warnings:\n",
      "[1] Standard Errors assume that the covariance matrix of the errors is correctly specified.\n"
     ]
    }
   ],
   "source": [
    "# Create and Fit Model\n",
    "X_ols = sm.add_constant(X)\n",
    "model_ols = sm.OLS(y, X_ols)\n",
    "results = model_ols.fit()\n",
    "\n",
    "# Model Results\n",
    "print(results.summary())"
   ]
  },
  {
   "cell_type": "code",
   "execution_count": 6,
   "metadata": {},
   "outputs": [
    {
     "data": {
      "image/png": "[encoded data removed]",
      "text/plain": [
       "<Figure size 432x288 with 1 Axes>"
      ]
     },
     "metadata": {
      "needs_background": "light"
     },
     "output_type": "display_data"
    }
   ],
   "source": [
    "# Visualization\n",
    "plt.scatter(X_ols['DT.NFL.UNDP.CD'], y,  color='gray')\n",
    "plt.plot(X_ols['DT.NFL.UNDP.CD'], y, color='red', linewidth=2)\n",
    "plt.show()"
   ]
  },
  {
   "cell_type": "code",
   "execution_count": null,
   "metadata": {},
   "outputs": [],
   "source": []
  }
 ],
 "metadata": {
  "instance_type": "ml.t3.medium",
  "kernelspec": {
   "display_name": "Python 3 (Data Science)",
   "language": "python",
   "name": "python3__SAGEMAKER_INTERNAL__arn:aws:sagemaker:us-east-2:429704687514:image/datascience-1.0"
  },
  "language_info": {
   "codemirror_mode": {
    "name": "ipython",
    "version": 3
   },
   "file_extension": ".py",
   "mimetype": "text/x-python",
   "name": "python",
   "nbconvert_exporter": "python",
   "pygments_lexer": "ipython3",
   "version": "3.7.6"
  }
 },
 "nbformat": 4,
 "nbformat_minor": 4
}
