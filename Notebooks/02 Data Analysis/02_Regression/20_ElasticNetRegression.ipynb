{
 "cells": [
  {
   "cell_type": "markdown",
   "metadata": {},
   "source": [
    "# Data Analysis (Regression): ElasticNet Regression\n",
    "ElasticNet Regression is a combination of both Ridge and Lasso Regression using properties from both to minimze the complexity of the model."
   ]
  },
  {
   "cell_type": "markdown",
   "metadata": {},
   "source": [
    "## Import Libraries"
   ]
  },
  {
   "cell_type": "code",
   "execution_count": 1,
   "metadata": {},
   "outputs": [],
   "source": [
    "# Import Required Modules and Packages\n",
    "import numpy as np\n",
    "import pandas as pd\n",
    "import seaborn as sns\n",
    "import matplotlib\n",
    "import sys\n",
    "\n",
    "from sklearn import metrics\n",
    "from sklearn import linear_model\n",
    "from sklearn.metrics import r2_score\n",
    "from sklearn.linear_model import ElasticNet"
   ]
  },
  {
   "cell_type": "code",
   "execution_count": 2,
   "metadata": {},
   "outputs": [
    {
     "name": "stdout",
     "output_type": "stream",
     "text": [
      "/root\n"
     ]
    }
   ],
   "source": [
    "cd"
   ]
  },
  {
   "cell_type": "markdown",
   "metadata": {},
   "source": [
    "## Load Data"
   ]
  },
  {
   "cell_type": "code",
   "execution_count": 3,
   "metadata": {},
   "outputs": [],
   "source": [
    "# Upload the X and y Data\n",
    "X_train = pd.read_csv('Project/Cleaned/Regression/X_train.csv', na_values = ['..'])\n",
    "X_test = pd.read_csv('Project/Cleaned/Regression/X_test.csv', na_values = ['..'])\n",
    "y_train = pd.read_csv('Project/Cleaned/Regression/y_train.csv', na_values = ['..'])\n",
    "y_test = pd.read_csv('Project/Cleaned/Regression/y_test.csv', na_values = ['..'])\n",
    "\n",
    "# Drop Column\n",
    "X_train.drop(['Unnamed: 0'], axis=1, inplace=True)\n",
    "X_test.drop(['Unnamed: 0'], axis=1, inplace=True)\n",
    "y_train.drop(['Unnamed: 0'], axis=1, inplace=True)\n",
    "y_test.drop(['Unnamed: 0'], axis=1, inplace=True)\n",
    "\n",
    "# Load Dictionary\n",
    "dictionary_series = np.load('Project/Cleaned/dictionary_series.npy',allow_pickle='TRUE').item()"
   ]
  },
  {
   "cell_type": "code",
   "execution_count": 4,
   "metadata": {},
   "outputs": [
    {
     "name": "stdout",
     "output_type": "stream",
     "text": [
      "X_test: (999, 20)\n",
      "y_test: (999, 1)\n",
      "X_train: (3993, 20)\n",
      "y_train: (3993, 1)\n"
     ]
    }
   ],
   "source": [
    "# Shape of Train and Test Data\n",
    "print('X_test:', X_test.shape)\n",
    "print('y_test:', y_test.shape)\n",
    "print('X_train:', X_train.shape)\n",
    "print('y_train:', y_train.shape)"
   ]
  },
  {
   "cell_type": "markdown",
   "metadata": {},
   "source": [
    "## ElasticNet Regression"
   ]
  },
  {
   "cell_type": "code",
   "execution_count": 5,
   "metadata": {},
   "outputs": [],
   "source": [
    "# Create and Fit Model\n",
    "model_elasticnet = ElasticNet(alpha=0.01).fit(X_train, y_train.values.ravel()) \n",
    "\n",
    "# Model Coefficients\n",
    "model_coefficients_elasticnet = model_elasticnet.coef_\n",
    "\n",
    "# Model Prediction\n",
    "y_prediction_train = model_elasticnet.predict(X_train)\n",
    "y_prediction_test = model_elasticnet.predict(X_test)"
   ]
  },
  {
   "cell_type": "markdown",
   "metadata": {},
   "source": [
    "## Evaluate Model"
   ]
  },
  {
   "cell_type": "code",
   "execution_count": 6,
   "metadata": {},
   "outputs": [
    {
     "data": {
      "text/html": [
       "<div>\n",
       "<style scoped>\n",
       "    .dataframe tbody tr th:only-of-type {\n",
       "        vertical-align: middle;\n",
       "    }\n",
       "\n",
       "    .dataframe tbody tr th {\n",
       "        vertical-align: top;\n",
       "    }\n",
       "\n",
       "    .dataframe thead th {\n",
       "        text-align: right;\n",
       "    }\n",
       "</style>\n",
       "<table border=\"1\" class=\"dataframe\">\n",
       "  <thead>\n",
       "    <tr style=\"text-align: right;\">\n",
       "      <th></th>\n",
       "      <th>Evaluation Metric</th>\n",
       "      <th>Train</th>\n",
       "      <th>Test</th>\n",
       "    </tr>\n",
       "  </thead>\n",
       "  <tbody>\n",
       "    <tr>\n",
       "      <th>0</th>\n",
       "      <td>R-Squared</td>\n",
       "      <td>0.291263</td>\n",
       "      <td>0.294640</td>\n",
       "    </tr>\n",
       "    <tr>\n",
       "      <th>1</th>\n",
       "      <td>Mean Absolute Error</td>\n",
       "      <td>1.098578</td>\n",
       "      <td>1.145953</td>\n",
       "    </tr>\n",
       "    <tr>\n",
       "      <th>2</th>\n",
       "      <td>Mean Squared Error</td>\n",
       "      <td>3.011835</td>\n",
       "      <td>3.383611</td>\n",
       "    </tr>\n",
       "    <tr>\n",
       "      <th>3</th>\n",
       "      <td>Root Mean Squared Error</td>\n",
       "      <td>1.735464</td>\n",
       "      <td>1.839460</td>\n",
       "    </tr>\n",
       "  </tbody>\n",
       "</table>\n",
       "</div>"
      ],
      "text/plain": [
       "         Evaluation Metric     Train      Test\n",
       "0                R-Squared  0.291263  0.294640\n",
       "1      Mean Absolute Error  1.098578  1.145953\n",
       "2       Mean Squared Error  3.011835  3.383611\n",
       "3  Root Mean Squared Error  1.735464  1.839460"
      ]
     },
     "execution_count": 6,
     "metadata": {},
     "output_type": "execute_result"
    }
   ],
   "source": [
    "# Model Results\n",
    "model_results = [['R-Squared', r2_score(y_train, y_prediction_train), r2_score(y_test, y_prediction_test)],\n",
    "                 ['Mean Absolute Error', metrics.mean_absolute_error(y_train, y_prediction_train), metrics.mean_absolute_error(y_test, y_prediction_test)],\n",
    "                 ['Mean Squared Error', metrics.mean_squared_error(y_train, y_prediction_train), metrics.mean_squared_error(y_test, y_prediction_test)],\n",
    "                 ['Root Mean Squared Error', np.sqrt(metrics.mean_squared_error(y_train, y_prediction_train)), np.sqrt(metrics.mean_squared_error(y_test, y_prediction_test))]]\n",
    "model_results_elasticnet = pd.DataFrame(model_results, columns=['Evaluation Metric', 'Train', 'Test'])\n",
    "model_results_elasticnet"
   ]
  },
  {
   "cell_type": "code",
   "execution_count": 7,
   "metadata": {},
   "outputs": [
    {
     "data": {
      "text/html": [
       "<div>\n",
       "<style scoped>\n",
       "    .dataframe tbody tr th:only-of-type {\n",
       "        vertical-align: middle;\n",
       "    }\n",
       "\n",
       "    .dataframe tbody tr th {\n",
       "        vertical-align: top;\n",
       "    }\n",
       "\n",
       "    .dataframe thead th {\n",
       "        text-align: right;\n",
       "    }\n",
       "</style>\n",
       "<table border=\"1\" class=\"dataframe\">\n",
       "  <thead>\n",
       "    <tr style=\"text-align: right;\">\n",
       "      <th></th>\n",
       "      <th>Coefficient</th>\n",
       "    </tr>\n",
       "  </thead>\n",
       "  <tbody>\n",
       "    <tr>\n",
       "      <th>DT.NFL.UNDP.CD</th>\n",
       "      <td>0.048905</td>\n",
       "    </tr>\n",
       "    <tr>\n",
       "      <th>DT.NFL.UNFP.CD</th>\n",
       "      <td>0.321333</td>\n",
       "    </tr>\n",
       "    <tr>\n",
       "      <th>EG.CFT.ACCS.ZS</th>\n",
       "      <td>0.217477</td>\n",
       "    </tr>\n",
       "    <tr>\n",
       "      <th>EG.ELC.ACCS.RU.ZS</th>\n",
       "      <td>-0.000000</td>\n",
       "    </tr>\n",
       "    <tr>\n",
       "      <th>EG.ELC.ACCS.UR.ZS</th>\n",
       "      <td>0.026541</td>\n",
       "    </tr>\n",
       "    <tr>\n",
       "      <th>EG.FEC.RNEW.ZS</th>\n",
       "      <td>0.403166</td>\n",
       "    </tr>\n",
       "    <tr>\n",
       "      <th>IT.MLT.MAIN.P2</th>\n",
       "      <td>-0.266566</td>\n",
       "    </tr>\n",
       "    <tr>\n",
       "      <th>NV.AGR.TOTL.ZS</th>\n",
       "      <td>-0.063942</td>\n",
       "    </tr>\n",
       "    <tr>\n",
       "      <th>SE.PRM.ENRL.TC.ZS</th>\n",
       "      <td>0.029497</td>\n",
       "    </tr>\n",
       "    <tr>\n",
       "      <th>SE.PRM.NENR</th>\n",
       "      <td>-0.165661</td>\n",
       "    </tr>\n",
       "    <tr>\n",
       "      <th>SE.PRM.TCHR.FE.ZS</th>\n",
       "      <td>-0.069893</td>\n",
       "    </tr>\n",
       "    <tr>\n",
       "      <th>SE.SEC.ENRR</th>\n",
       "      <td>0.073160</td>\n",
       "    </tr>\n",
       "    <tr>\n",
       "      <th>SE.SEC.NENR</th>\n",
       "      <td>-0.122752</td>\n",
       "    </tr>\n",
       "    <tr>\n",
       "      <th>SH.ANM.ALLW.ZS</th>\n",
       "      <td>0.063982</td>\n",
       "    </tr>\n",
       "    <tr>\n",
       "      <th>SH.DTH.COMM.ZS</th>\n",
       "      <td>0.291859</td>\n",
       "    </tr>\n",
       "    <tr>\n",
       "      <th>SH.DYN.0514</th>\n",
       "      <td>0.014582</td>\n",
       "    </tr>\n",
       "    <tr>\n",
       "      <th>SH.STA.BRTC.ZS</th>\n",
       "      <td>0.202271</td>\n",
       "    </tr>\n",
       "    <tr>\n",
       "      <th>SH.TBS.DTEC.ZS</th>\n",
       "      <td>-0.074213</td>\n",
       "    </tr>\n",
       "    <tr>\n",
       "      <th>SL.AGR.EMPL.FE.ZS</th>\n",
       "      <td>0.190451</td>\n",
       "    </tr>\n",
       "    <tr>\n",
       "      <th>SP.ADO.TFRT</th>\n",
       "      <td>0.000000</td>\n",
       "    </tr>\n",
       "  </tbody>\n",
       "</table>\n",
       "</div>"
      ],
      "text/plain": [
       "                   Coefficient\n",
       "DT.NFL.UNDP.CD        0.048905\n",
       "DT.NFL.UNFP.CD        0.321333\n",
       "EG.CFT.ACCS.ZS        0.217477\n",
       "EG.ELC.ACCS.RU.ZS    -0.000000\n",
       "EG.ELC.ACCS.UR.ZS     0.026541\n",
       "EG.FEC.RNEW.ZS        0.403166\n",
       "IT.MLT.MAIN.P2       -0.266566\n",
       "NV.AGR.TOTL.ZS       -0.063942\n",
       "SE.PRM.ENRL.TC.ZS     0.029497\n",
       "SE.PRM.NENR          -0.165661\n",
       "SE.PRM.TCHR.FE.ZS    -0.069893\n",
       "SE.SEC.ENRR           0.073160\n",
       "SE.SEC.NENR          -0.122752\n",
       "SH.ANM.ALLW.ZS        0.063982\n",
       "SH.DTH.COMM.ZS        0.291859\n",
       "SH.DYN.0514           0.014582\n",
       "SH.STA.BRTC.ZS        0.202271\n",
       "SH.TBS.DTEC.ZS       -0.074213\n",
       "SL.AGR.EMPL.FE.ZS     0.190451\n",
       "SP.ADO.TFRT           0.000000"
      ]
     },
     "execution_count": 7,
     "metadata": {},
     "output_type": "execute_result"
    }
   ],
   "source": [
    "# Model Coefficients\n",
    "model_coefficients_elasticnet_table = pd.DataFrame(model_elasticnet.coef_.flatten(), X_train.columns, columns=['Coefficient'])\n",
    "model_coefficients_elasticnet_table"
   ]
  },
  {
   "cell_type": "code",
   "execution_count": 8,
   "metadata": {},
   "outputs": [
    {
     "data": {
      "text/plain": [
       "{'Series Name': 'Net official flows from UN agencies, UNDP (current US$)'}"
      ]
     },
     "execution_count": 8,
     "metadata": {},
     "output_type": "execute_result"
    }
   ],
   "source": [
    "# Series Dictionary\n",
    "dictionary_series['DT.NFL.UNDP.CD']"
   ]
  },
  {
   "cell_type": "code",
   "execution_count": null,
   "metadata": {},
   "outputs": [],
   "source": []
  }
 ],
 "metadata": {
  "instance_type": "ml.t3.medium",
  "kernelspec": {
   "display_name": "Python 3 (Data Science)",
   "language": "python",
   "name": "python3__SAGEMAKER_INTERNAL__arn:aws:sagemaker:us-east-2:429704687514:image/datascience-1.0"
  },
  "language_info": {
   "codemirror_mode": {
    "name": "ipython",
    "version": 3
   },
   "file_extension": ".py",
   "mimetype": "text/x-python",
   "name": "python",
   "nbconvert_exporter": "python",
   "pygments_lexer": "ipython3",
   "version": "3.7.6"
  }
 },
 "nbformat": 4,
 "nbformat_minor": 4
}
