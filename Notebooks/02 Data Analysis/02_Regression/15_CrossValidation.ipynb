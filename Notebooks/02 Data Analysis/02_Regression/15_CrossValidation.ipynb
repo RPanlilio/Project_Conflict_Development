{
 "cells": [
  {
   "cell_type": "markdown",
   "metadata": {},
   "source": [
    "# Data Analysis (Classification): Cross-Validation"
   ]
  },
  {
   "cell_type": "markdown",
   "metadata": {},
   "source": [
    "## Import Libraries"
   ]
  },
  {
   "cell_type": "code",
   "execution_count": 1,
   "metadata": {},
   "outputs": [],
   "source": [
    "# Import Required Modules and Packages\n",
    "import numpy as np\n",
    "import pandas as pd\n",
    "import seaborn as sns\n",
    "import matplotlib\n",
    "import sys\n",
    "\n",
    "import matplotlib.pyplot as plt \n",
    "from sklearn.linear_model import LogisticRegression, LinearRegression, Ridge, Lasso, ElasticNet, LassoLars, BayesianRidge\n",
    "from sklearn.ensemble  import BaggingRegressor, GradientBoostingRegressor, StackingRegressor, RandomForestRegressor\n",
    "from sklearn.model_selection import cross_validate, KFold"
   ]
  },
  {
   "cell_type": "code",
   "execution_count": 2,
   "metadata": {},
   "outputs": [],
   "source": [
    "random = 20200910"
   ]
  },
  {
   "cell_type": "markdown",
   "metadata": {},
   "source": [
    "## Load Data"
   ]
  },
  {
   "cell_type": "code",
   "execution_count": 3,
   "metadata": {},
   "outputs": [],
   "source": [
    "# Upload the X and y Data\n",
    "X_train = pd.read_csv('Project/Cleaned/Regression/X_train.csv', na_values = ['..'])\n",
    "X_test = pd.read_csv('Project/Cleaned/Regression/X_test.csv', na_values = ['..'])\n",
    "y_train = pd.read_csv('Project/Cleaned/Regression/y_train.csv', na_values = ['..'])\n",
    "y_test = pd.read_csv('Project/Cleaned/Regression/y_test.csv', na_values = ['..'])\n",
    "\n",
    "# Drop Column\n",
    "X_train.drop(['Unnamed: 0'], axis=1, inplace=True)\n",
    "X_test.drop(['Unnamed: 0'], axis=1, inplace=True)\n",
    "y_train.drop(['Unnamed: 0'], axis=1, inplace=True)\n",
    "y_test.drop(['Unnamed: 0'], axis=1, inplace=True)"
   ]
  },
  {
   "cell_type": "code",
   "execution_count": 4,
   "metadata": {},
   "outputs": [
    {
     "name": "stdout",
     "output_type": "stream",
     "text": [
      "X_test: (999, 20)\n",
      "y_test: (999, 1)\n",
      "X_train: (3993, 20)\n",
      "y_train: (3993, 1)\n"
     ]
    }
   ],
   "source": [
    "# Shape of Train and Test Data\n",
    "print('X_test:', X_test.shape)\n",
    "print('y_test:', y_test.shape)\n",
    "print('X_train:', X_train.shape)\n",
    "print('y_train:', y_train.shape)"
   ]
  },
  {
   "cell_type": "markdown",
   "metadata": {},
   "source": [
    "## Cross-Validation"
   ]
  },
  {
   "cell_type": "code",
   "execution_count": 5,
   "metadata": {},
   "outputs": [],
   "source": [
    "# Models to Compare\n",
    "linear = LinearRegression()\n",
    "ridge = Ridge()\n",
    "lasso = Lasso()\n",
    "elastic = ElasticNet()\n",
    "bagging = BaggingRegressor()\n",
    "boosting = GradientBoostingRegressor()\n",
    "estimators = [\n",
    "    ('svr', LinearRegression()),\n",
    "    ('ridge', Ridge()),\n",
    "    ('lasso', Lasso()),\n",
    "    ('elastic', ElasticNet())\n",
    "]\n",
    "stacking = StackingRegressor(estimators=estimators, final_estimator=RandomForestRegressor(n_estimators=10, random_state=random))"
   ]
  },
  {
   "cell_type": "code",
   "execution_count": 6,
   "metadata": {},
   "outputs": [],
   "source": [
    "# Cross-Validation\n",
    "models= [('linear', linear),\n",
    "         ('ridge', ridge), \n",
    "         ('lasso', lasso), \n",
    "         ('elastic', elastic),\n",
    "        ('bagging', bagging),\n",
    "        ('boosting', boosting),\n",
    "        ('stacking', stacking)]\n",
    "\n",
    "scoring = ['neg_mean_squared_error', \n",
    "           'neg_mean_absolute_error', \n",
    "           'r2']\n",
    "\n",
    "results= []\n",
    "for name, model in models:\n",
    "    for i in scoring:\n",
    "        scores = cross_validate(model, X_train, y_train.values.ravel(), scoring=i, cv=KFold(3, random_state=random, shuffle=True), return_train_score=True)\n",
    "        results.append(scores)"
   ]
  },
  {
   "cell_type": "code",
   "execution_count": 7,
   "metadata": {},
   "outputs": [],
   "source": [
    "# Model Metrics\n",
    "rmse_mean_linear = np.sqrt(-results[0]['test_score'].mean())\n",
    "rmse_std_linear = results[0]['test_score'].std()\n",
    "mae_mean_linear = -results[1]['test_score'].mean()\n",
    "mae_std_linear = results[1]['test_score'].std()\n",
    "r2_mean_linear = results[2]['test_score'].mean()\n",
    "r2_std_linear = results[2]['test_score'].std()\n",
    "\n",
    "rmse_mean_ridge = np.sqrt(-results[3]['test_score'].mean())\n",
    "rmse_std_ridge = results[3]['test_score'].std()\n",
    "mae_mean_ridge = -results[4]['test_score'].mean()\n",
    "mae_std_ridge = results[4]['test_score'].std()\n",
    "r2_mean_ridge = results[5]['test_score'].mean()\n",
    "r2_std_ridge = results[5]['test_score'].std()\n",
    "\n",
    "rmse_mean_lasso = np.sqrt(-results[6]['test_score'].mean())\n",
    "rmse_std_lasso = results[6]['test_score'].std()\n",
    "mae_mean_lasso = -results[7]['test_score'].mean()\n",
    "mae_std_lasso = results[7]['test_score'].std()\n",
    "r2_mean_lasso = results[8]['test_score'].mean()\n",
    "r2_std_lasso = results[8]['test_score'].std()\n",
    "\n",
    "rmse_mean_elastic = np.sqrt(-results[9]['test_score'].mean())\n",
    "rmse_std_elastic = results[9]['test_score'].std()\n",
    "mae_mean_elastic = -results[10]['test_score'].mean()\n",
    "mae_std_elastic = results[10]['test_score'].std()\n",
    "r2_mean_elastic = results[11]['test_score'].mean()\n",
    "r2_std_elastic = results[11]['test_score'].std()\n",
    "\n",
    "rmse_mean_bagging = np.sqrt(-results[12]['test_score'].mean())\n",
    "rmse_std_bagging = results[12]['test_score'].std()\n",
    "mae_mean_bagging = -results[13]['test_score'].mean()\n",
    "mae_std_bagging = results[13]['test_score'].std()\n",
    "r2_mean_bagging = results[14]['test_score'].mean()\n",
    "r2_std_bagging = results[14]['test_score'].std()\n",
    "\n",
    "rmse_mean_boosting = np.sqrt(-results[15]['test_score'].mean())\n",
    "rmse_std_boosting = results[15]['test_score'].std()\n",
    "mae_mean_boosting = -results[16]['test_score'].mean()\n",
    "mae_std_boosting = results[16]['test_score'].std()\n",
    "r2_mean_boosting = results[17]['test_score'].mean()\n",
    "r2_std_boosting = results[17]['test_score'].std()\n",
    "\n",
    "rmse_mean_stacking = np.sqrt(-results[18]['test_score'].mean())\n",
    "rmse_std_stacking = results[18]['test_score'].std()\n",
    "mae_mean_stacking = -results[19]['test_score'].mean()\n",
    "mae_std_stacking = results[19]['test_score'].std()\n",
    "r2_mean_stacking = results[20]['test_score'].mean()\n",
    "r2_std_stacking = results[20]['test_score'].std()"
   ]
  },
  {
   "cell_type": "code",
   "execution_count": 8,
   "metadata": {},
   "outputs": [
    {
     "data": {
      "text/html": [
       "<div>\n",
       "<style scoped>\n",
       "    .dataframe tbody tr th:only-of-type {\n",
       "        vertical-align: middle;\n",
       "    }\n",
       "\n",
       "    .dataframe tbody tr th {\n",
       "        vertical-align: top;\n",
       "    }\n",
       "\n",
       "    .dataframe thead th {\n",
       "        text-align: right;\n",
       "    }\n",
       "</style>\n",
       "<table border=\"1\" class=\"dataframe\">\n",
       "  <thead>\n",
       "    <tr style=\"text-align: right;\">\n",
       "      <th></th>\n",
       "      <th>Model</th>\n",
       "      <th>RMSE_mean</th>\n",
       "      <th>RMSE_std</th>\n",
       "      <th>MAE_mean</th>\n",
       "      <th>MAE_std</th>\n",
       "      <th>r2_mean</th>\n",
       "      <th>r2_std</th>\n",
       "    </tr>\n",
       "  </thead>\n",
       "  <tbody>\n",
       "    <tr>\n",
       "      <th>4</th>\n",
       "      <td>Bagging</td>\n",
       "      <td>1.192603</td>\n",
       "      <td>0.094320</td>\n",
       "      <td>0.580550</td>\n",
       "      <td>0.024595</td>\n",
       "      <td>0.656962</td>\n",
       "      <td>0.029415</td>\n",
       "    </tr>\n",
       "    <tr>\n",
       "      <th>5</th>\n",
       "      <td>Boosting</td>\n",
       "      <td>1.389367</td>\n",
       "      <td>0.140578</td>\n",
       "      <td>0.806279</td>\n",
       "      <td>0.014242</td>\n",
       "      <td>0.545872</td>\n",
       "      <td>0.008573</td>\n",
       "    </tr>\n",
       "    <tr>\n",
       "      <th>1</th>\n",
       "      <td>Ridge</td>\n",
       "      <td>1.745447</td>\n",
       "      <td>0.241334</td>\n",
       "      <td>1.107626</td>\n",
       "      <td>0.035222</td>\n",
       "      <td>0.283550</td>\n",
       "      <td>0.016540</td>\n",
       "    </tr>\n",
       "    <tr>\n",
       "      <th>0</th>\n",
       "      <td>Linear</td>\n",
       "      <td>1.745463</td>\n",
       "      <td>0.241304</td>\n",
       "      <td>1.107686</td>\n",
       "      <td>0.035217</td>\n",
       "      <td>0.283536</td>\n",
       "      <td>0.016527</td>\n",
       "    </tr>\n",
       "    <tr>\n",
       "      <th>6</th>\n",
       "      <td>Stacking</td>\n",
       "      <td>1.861971</td>\n",
       "      <td>0.216399</td>\n",
       "      <td>1.042101</td>\n",
       "      <td>0.040727</td>\n",
       "      <td>0.183852</td>\n",
       "      <td>0.008585</td>\n",
       "    </tr>\n",
       "    <tr>\n",
       "      <th>3</th>\n",
       "      <td>ElasticNet</td>\n",
       "      <td>1.894997</td>\n",
       "      <td>0.255197</td>\n",
       "      <td>1.346369</td>\n",
       "      <td>0.025999</td>\n",
       "      <td>0.155129</td>\n",
       "      <td>0.007219</td>\n",
       "    </tr>\n",
       "    <tr>\n",
       "      <th>2</th>\n",
       "      <td>Lasso</td>\n",
       "      <td>2.061896</td>\n",
       "      <td>0.264982</td>\n",
       "      <td>1.544959</td>\n",
       "      <td>0.019321</td>\n",
       "      <td>-0.000799</td>\n",
       "      <td>0.000599</td>\n",
       "    </tr>\n",
       "  </tbody>\n",
       "</table>\n",
       "</div>"
      ],
      "text/plain": [
       "        Model  RMSE_mean  RMSE_std  MAE_mean   MAE_std   r2_mean    r2_std\n",
       "4     Bagging   1.192603  0.094320  0.580550  0.024595  0.656962  0.029415\n",
       "5    Boosting   1.389367  0.140578  0.806279  0.014242  0.545872  0.008573\n",
       "1       Ridge   1.745447  0.241334  1.107626  0.035222  0.283550  0.016540\n",
       "0      Linear   1.745463  0.241304  1.107686  0.035217  0.283536  0.016527\n",
       "6    Stacking   1.861971  0.216399  1.042101  0.040727  0.183852  0.008585\n",
       "3  ElasticNet   1.894997  0.255197  1.346369  0.025999  0.155129  0.007219\n",
       "2       Lasso   2.061896  0.264982  1.544959  0.019321 -0.000799  0.000599"
      ]
     },
     "execution_count": 8,
     "metadata": {},
     "output_type": "execute_result"
    }
   ],
   "source": [
    "# Model Metrics\n",
    "model = pd.DataFrame({\n",
    "    'Model'       : ['Linear', 'Ridge', 'Lasso', 'ElasticNet', 'Bagging', 'Boosting', 'Stacking'],\n",
    "    'RMSE_mean'    : [rmse_mean_linear, rmse_mean_ridge, rmse_mean_lasso, rmse_mean_elastic, rmse_mean_bagging, rmse_mean_boosting, rmse_mean_stacking],\n",
    "    'RMSE_std'    : [rmse_std_linear, rmse_std_ridge, rmse_std_lasso, rmse_std_elastic, rmse_std_bagging, rmse_std_boosting, rmse_std_stacking],\n",
    "    'MAE_mean'   : [mae_mean_linear, mae_mean_ridge, mae_mean_lasso, mae_mean_elastic, mae_mean_bagging, mae_mean_boosting, mae_mean_stacking],\n",
    "    'MAE_std'   : [mae_std_linear, mae_std_ridge, mae_std_lasso, mae_std_elastic, mae_std_bagging, mae_std_boosting, mae_std_stacking],\n",
    "    'r2_mean'      : [r2_mean_linear, r2_mean_ridge, r2_mean_lasso, r2_mean_elastic, r2_mean_bagging, r2_mean_boosting, r2_mean_stacking],\n",
    "    'r2_std'      : [r2_std_linear, r2_std_ridge, r2_std_lasso, r2_std_elastic, r2_std_bagging, r2_std_boosting, r2_std_stacking],\n",
    "    }, columns = ['Model', 'RMSE_mean', 'RMSE_std', 'MAE_mean', 'MAE_std', 'r2_mean', 'r2_std'])\n",
    "\n",
    "model.sort_values(by='r2_mean', ascending=False)"
   ]
  },
  {
   "cell_type": "code",
   "execution_count": 9,
   "metadata": {},
   "outputs": [],
   "source": [
    "# Model Metrics\n",
    "model_metrics = pd.DataFrame(model.set_index(['Model']).stack()).reset_index()\n",
    "model_metrics.rename(columns={ model_metrics.columns[1]: \"Metric\" }, inplace = True)\n",
    "model_metrics.rename(columns={ model_metrics.columns[2]: \"Value\" }, inplace = True)"
   ]
  },
  {
   "cell_type": "code",
   "execution_count": 10,
   "metadata": {},
   "outputs": [
    {
     "data": {
      "image/png": "[encoded data removed]",
      "text/plain": [
       "<Figure size 457.25x360 with 1 Axes>"
      ]
     },
     "metadata": {
      "needs_background": "light"
     },
     "output_type": "display_data"
    }
   ],
   "source": [
    "# Plot - RMSE Mean by Model\n",
    "sns.catplot(x = 'Value', y = 'Model', data = model_metrics, hue = 'Metric', kind = 'bar', legend = 'True', orient = 'h')\n",
    "plt.show()"
   ]
  },
  {
   "cell_type": "code",
   "execution_count": null,
   "metadata": {},
   "outputs": [],
   "source": []
  }
 ],
 "metadata": {
  "instance_type": "ml.t3.medium",
  "kernelspec": {
   "display_name": "Python 3 (Data Science)",
   "language": "python",
   "name": "python3__SAGEMAKER_INTERNAL__arn:aws:sagemaker:us-east-2:429704687514:image/datascience-1.0"
  },
  "language_info": {
   "codemirror_mode": {
    "name": "ipython",
    "version": 3
   },
   "file_extension": ".py",
   "mimetype": "text/x-python",
   "name": "python",
   "nbconvert_exporter": "python",
   "pygments_lexer": "ipython3",
   "version": "3.7.6"
  }
 },
 "nbformat": 4,
 "nbformat_minor": 4
}
