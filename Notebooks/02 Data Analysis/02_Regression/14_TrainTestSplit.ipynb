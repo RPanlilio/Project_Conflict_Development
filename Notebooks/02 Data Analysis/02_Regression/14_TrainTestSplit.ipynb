{
 "cells": [
  {
   "cell_type": "markdown",
   "metadata": {},
   "source": [
    "# Data Analysis (Regression): Train-Test Split"
   ]
  },
  {
   "cell_type": "markdown",
   "metadata": {},
   "source": [
    "## Import Libraries"
   ]
  },
  {
   "cell_type": "code",
   "execution_count": 1,
   "metadata": {},
   "outputs": [],
   "source": [
    "# Import Required Modules and Packages\n",
    "import numpy as np\n",
    "import pandas as pd\n",
    "import seaborn as sns\n",
    "import matplotlib\n",
    "import sys\n",
    "\n",
    "import matplotlib.pyplot as plt \n",
    "from sklearn.preprocessing import StandardScaler\n",
    "from sklearn.model_selection import train_test_split\n",
    "from sklearn.feature_selection import SelectKBest, f_regression"
   ]
  },
  {
   "cell_type": "code",
   "execution_count": 2,
   "metadata": {},
   "outputs": [
    {
     "name": "stdout",
     "output_type": "stream",
     "text": [
      "/root\n"
     ]
    }
   ],
   "source": [
    "cd"
   ]
  },
  {
   "cell_type": "markdown",
   "metadata": {},
   "source": [
    "## Load Data"
   ]
  },
  {
   "cell_type": "code",
   "execution_count": 3,
   "metadata": {},
   "outputs": [],
   "source": [
    "# Upload the X and y Data\n",
    "final_data_x = pd.read_csv('Project/Cleaned/final_data_x.csv', na_values = ['..'])\n",
    "final_data_y_continuous = pd.read_csv('Project/Cleaned/final_data_y_continuous.csv', na_values = ['..'])\n",
    "\n",
    "# Drop Column\n",
    "final_data_x.drop(['Unnamed: 0'], axis=1, inplace=True)\n",
    "final_data_y_continuous.drop(['Unnamed: 0'], axis=1, inplace=True)\n",
    "\n",
    "# Set Indices\n",
    "final_data_x.set_index(['country', 'year'], inplace=True)\n",
    "\n",
    "# Load Dictionary\n",
    "dictionary_series = np.load('Project/Cleaned/dictionary_series.npy',allow_pickle='TRUE').item()"
   ]
  },
  {
   "cell_type": "code",
   "execution_count": 4,
   "metadata": {},
   "outputs": [
    {
     "name": "stdout",
     "output_type": "stream",
     "text": [
      "Shape of Data (Features):  (4992, 714)\n",
      "Shape of Data (Outcome - Continuous):  (4992, 1)\n"
     ]
    }
   ],
   "source": [
    "# Shape of Data\n",
    "print(\"Shape of Data (Features): \", final_data_x.shape)\n",
    "print(\"Shape of Data (Outcome - Continuous): \", final_data_y_continuous.shape)"
   ]
  },
  {
   "cell_type": "markdown",
   "metadata": {},
   "source": [
    "## Outcome Variables - Continuous\n",
    "For the purposes of this project, supervised machine learning regression models will be used to predict the continuous value <continuous_conflict_instances> with the value being the number of conflict events of any kind occurring."
   ]
  },
  {
   "cell_type": "markdown",
   "metadata": {},
   "source": [
    "## Scale Data"
   ]
  },
  {
   "cell_type": "code",
   "execution_count": 5,
   "metadata": {},
   "outputs": [],
   "source": [
    "# Scale Data\n",
    "names =  final_data_x.columns\n",
    "feature_scaler = StandardScaler()\n",
    "final_data_x_scaled = feature_scaler.fit_transform(final_data_x)\n",
    "final_data_x_scaled = pd.DataFrame(final_data_x_scaled, columns=names)"
   ]
  },
  {
   "cell_type": "markdown",
   "metadata": {},
   "source": [
    "## Feature Selection\n",
    "### ANOVA F-Value \n",
    "ANOVA (Analysis of Variance) checks the means of two or more groups that are significantly different from each other to select which features to include in the model."
   ]
  },
  {
   "cell_type": "code",
   "execution_count": 6,
   "metadata": {},
   "outputs": [
    {
     "name": "stdout",
     "output_type": "stream",
     "text": [
      "Shape of X_selectedfeatures:        (4992, 20)\n",
      "Selected Features (ANOVA F-Value):  20\n"
     ]
    }
   ],
   "source": [
    "# Define feature selection\n",
    "featureselection = SelectKBest(score_func=f_regression, k=20)\n",
    "X_selectedfeatures = featureselection.fit_transform(final_data_x_scaled, final_data_y_continuous.values.ravel())\n",
    "\n",
    "print('Shape of X_selectedfeatures:       ', X_selectedfeatures.shape)\n",
    "print('Selected Features (ANOVA F-Value): ', X_selectedfeatures.shape[1])"
   ]
  },
  {
   "cell_type": "code",
   "execution_count": 7,
   "metadata": {},
   "outputs": [
    {
     "data": {
      "text/plain": [
       "Index(['DT.NFL.UNDP.CD', 'DT.NFL.UNFP.CD', 'EG.CFT.ACCS.ZS',\n",
       "       'EG.ELC.ACCS.RU.ZS', 'EG.ELC.ACCS.UR.ZS', 'EG.FEC.RNEW.ZS',\n",
       "       'IT.MLT.MAIN.P2', 'NV.AGR.TOTL.ZS', 'SE.PRM.ENRL.TC.ZS', 'SE.PRM.NENR',\n",
       "       'SE.PRM.TCHR.FE.ZS', 'SE.SEC.ENRR', 'SE.SEC.NENR', 'SH.ANM.ALLW.ZS',\n",
       "       'SH.DTH.COMM.ZS', 'SH.DYN.0514', 'SH.STA.BRTC.ZS', 'SH.TBS.DTEC.ZS',\n",
       "       'SL.AGR.EMPL.FE.ZS', 'SP.ADO.TFRT'],\n",
       "      dtype='object')"
      ]
     },
     "execution_count": 7,
     "metadata": {},
     "output_type": "execute_result"
    }
   ],
   "source": [
    "# Feature Columns\n",
    "feature_columns = final_data_x_scaled.columns\n",
    "\n",
    "selected_features = pd.DataFrame(featureselection.inverse_transform(X_selectedfeatures), \n",
    "                                 index=final_data_x_scaled.index, \n",
    "                                 columns=feature_columns)\n",
    "\n",
    "# Selected Feature Columns\n",
    "selected_columns = selected_features.columns[selected_features.var() != 0]\n",
    "selected_columns"
   ]
  },
  {
   "cell_type": "code",
   "execution_count": 8,
   "metadata": {},
   "outputs": [
    {
     "data": {
      "text/plain": [
       "{'Series Name': 'Net official flows from UN agencies, UNDP (current US$)'}"
      ]
     },
     "execution_count": 8,
     "metadata": {},
     "output_type": "execute_result"
    }
   ],
   "source": [
    "dictionary_series['DT.NFL.UNDP.CD']"
   ]
  },
  {
   "cell_type": "code",
   "execution_count": 9,
   "metadata": {},
   "outputs": [],
   "source": [
    "# Filter out Unselected Feature Columns\n",
    "final_data_x_scaled_filtered = final_data_x_scaled[selected_columns]"
   ]
  },
  {
   "cell_type": "code",
   "execution_count": 10,
   "metadata": {},
   "outputs": [
    {
     "name": "stdout",
     "output_type": "stream",
     "text": [
      "Shape of Data (Selected Feature Columns): (4992, 20)\n"
     ]
    }
   ],
   "source": [
    "# Shape of Data\n",
    "print('Shape of Data (Selected Feature Columns):', final_data_x_scaled_filtered.shape)"
   ]
  },
  {
   "cell_type": "markdown",
   "metadata": {},
   "source": [
    "## Train-Test Data"
   ]
  },
  {
   "cell_type": "code",
   "execution_count": 11,
   "metadata": {},
   "outputs": [
    {
     "name": "stdout",
     "output_type": "stream",
     "text": [
      "X_test: (999, 20)\n",
      "y_test: (999, 1)\n",
      "X_train: (3993, 20)\n",
      "y_train: (3993, 1)\n"
     ]
    }
   ],
   "source": [
    "# Train-Test Split\n",
    "X = final_data_x_scaled_filtered\n",
    "y = final_data_y_continuous\n",
    "X_train, X_test, y_train, y_test = train_test_split(X, y, test_size=0.20, random_state=1)\n",
    "\n",
    "# Shape of Train and Test Data\n",
    "print('X_test:', X_test.shape)\n",
    "print('y_test:', y_test.shape)\n",
    "print('X_train:', X_train.shape)\n",
    "print('y_train:', y_train.shape)"
   ]
  },
  {
   "cell_type": "markdown",
   "metadata": {},
   "source": [
    "## Save Train-Test Data"
   ]
  },
  {
   "cell_type": "code",
   "execution_count": 12,
   "metadata": {},
   "outputs": [],
   "source": [
    "# Save Data\n",
    "X.to_csv('Project/Cleaned/Regression/X.csv')\n",
    "y.to_csv('Project/Cleaned/Regression/y.csv')\n",
    "X_train.to_csv('Project/Cleaned/Regression/X_train.csv')\n",
    "X_test.to_csv('Project/Cleaned/Regression/X_test.csv')\n",
    "y_train.to_csv('Project/Cleaned/Regression/y_train.csv')\n",
    "y_test.to_csv('Project/Cleaned/Regression/y_test.csv')"
   ]
  },
  {
   "cell_type": "code",
   "execution_count": null,
   "metadata": {},
   "outputs": [],
   "source": []
  }
 ],
 "metadata": {
  "kernelspec": {
   "display_name": "Python 3 (Data Science)",
   "language": "python",
   "name": "python3__SAGEMAKER_INTERNAL__arn:aws:sagemaker:us-east-2:429704687514:image/datascience-1.0"
  },
  "language_info": {
   "codemirror_mode": {
    "name": "ipython",
    "version": 3
   },
   "file_extension": ".py",
   "mimetype": "text/x-python",
   "name": "python",
   "nbconvert_exporter": "python",
   "pygments_lexer": "ipython3",
   "version": "3.7.6"
  }
 },
 "nbformat": 4,
 "nbformat_minor": 4
}
