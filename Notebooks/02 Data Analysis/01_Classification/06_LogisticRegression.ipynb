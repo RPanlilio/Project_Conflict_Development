{
 "cells": [
  {
   "cell_type": "markdown",
   "metadata": {},
   "source": [
    "# Data Analysis (Classification): Logistic Regression\n",
    "Logistic regression performs classification based on regression to predict the probability of a binary dependent variable, or predict P(Y=1) as a function of X."
   ]
  },
  {
   "cell_type": "markdown",
   "metadata": {},
   "source": [
    "## Import Libraries"
   ]
  },
  {
   "cell_type": "code",
   "execution_count": 1,
   "metadata": {},
   "outputs": [
    {
     "name": "stdout",
     "output_type": "stream",
     "text": [
      "Requirement already satisfied: scikit-learn==0.23.1 in /opt/conda/lib/python3.7/site-packages (0.23.1)\n",
      "Requirement already satisfied: scipy>=0.19.1 in /opt/conda/lib/python3.7/site-packages (from scikit-learn==0.23.1) (1.4.1)\n",
      "Requirement already satisfied: joblib>=0.11 in /opt/conda/lib/python3.7/site-packages (from scikit-learn==0.23.1) (0.14.1)\n",
      "Requirement already satisfied: threadpoolctl>=2.0.0 in /opt/conda/lib/python3.7/site-packages (from scikit-learn==0.23.1) (2.1.0)\n",
      "Requirement already satisfied: numpy>=1.13.3 in /opt/conda/lib/python3.7/site-packages (from scikit-learn==0.23.1) (1.18.1)\n",
      "Requirement already satisfied: imbalanced-learn==0.7.0 in /opt/conda/lib/python3.7/site-packages (0.7.0)\n",
      "Requirement already satisfied: joblib>=0.11 in /opt/conda/lib/python3.7/site-packages (from imbalanced-learn==0.7.0) (0.14.1)\n",
      "Requirement already satisfied: numpy>=1.13.3 in /opt/conda/lib/python3.7/site-packages (from imbalanced-learn==0.7.0) (1.18.1)\n",
      "Requirement already satisfied: scikit-learn>=0.23 in /opt/conda/lib/python3.7/site-packages (from imbalanced-learn==0.7.0) (0.23.1)\n",
      "Requirement already satisfied: scipy>=0.19.1 in /opt/conda/lib/python3.7/site-packages (from imbalanced-learn==0.7.0) (1.4.1)\n",
      "Requirement already satisfied: threadpoolctl>=2.0.0 in /opt/conda/lib/python3.7/site-packages (from scikit-learn>=0.23->imbalanced-learn==0.7.0) (2.1.0)\n"
     ]
    }
   ],
   "source": [
    "# Import Required Modules and Packages\n",
    "import numpy as np\n",
    "import pandas as pd\n",
    "import seaborn as sns\n",
    "import matplotlib\n",
    "import sys\n",
    "\n",
    "import matplotlib.pyplot as plt \n",
    "from sklearn import metrics\n",
    "from sklearn.linear_model import LogisticRegression\n",
    "from sklearn.model_selection import cross_val_score, GridSearchCV\n",
    "from sklearn.metrics import r2_score, accuracy_score, mean_squared_error, precision_score, recall_score, roc_auc_score\n",
    "from sklearn.metrics import roc_curve,classification_report, confusion_matrix\n",
    "\n",
    "!pip install scikit-learn==0.23.1\n",
    "!pip install imbalanced-learn==0.7.0\n",
    "from imblearn.over_sampling import SMOTE, ADASYN"
   ]
  },
  {
   "cell_type": "code",
   "execution_count": 2,
   "metadata": {},
   "outputs": [
    {
     "name": "stdout",
     "output_type": "stream",
     "text": [
      "/root\n"
     ]
    }
   ],
   "source": [
    "cd"
   ]
  },
  {
   "cell_type": "markdown",
   "metadata": {},
   "source": [
    "## Load Data"
   ]
  },
  {
   "cell_type": "code",
   "execution_count": 3,
   "metadata": {},
   "outputs": [],
   "source": [
    "# Upload the X and y Data\n",
    "X = pd.read_csv('Project/Cleaned/Classification/X.csv', na_values = ['..'])\n",
    "y = pd.read_csv('Project/Cleaned/Classification/y.csv', na_values = ['..'])\n",
    "X_train = pd.read_csv('Project/Cleaned/Classification/X_train.csv', na_values = ['..'])\n",
    "X_test = pd.read_csv('Project/Cleaned/Classification/X_test.csv', na_values = ['..'])\n",
    "y_train = pd.read_csv('Project/Cleaned/Classification/y_train.csv', na_values = ['..'])\n",
    "y_test = pd.read_csv('Project/Cleaned/Classification/y_test.csv', na_values = ['..'])\n",
    "\n",
    "# Drop Column\n",
    "X.drop(['Unnamed: 0'], axis=1, inplace=True)\n",
    "y.drop(['Unnamed: 0'], axis=1, inplace=True)\n",
    "X_train.drop(['Unnamed: 0'], axis=1, inplace=True)\n",
    "X_test.drop(['Unnamed: 0'], axis=1, inplace=True)\n",
    "y_train.drop(['Unnamed: 0'], axis=1, inplace=True)\n",
    "y_test.drop(['Unnamed: 0'], axis=1, inplace=True)\n",
    "\n",
    "# Load Dictionary\n",
    "dictionary_series = np.load('Project/Cleaned/dictionary_series.npy',allow_pickle='TRUE').item()"
   ]
  },
  {
   "cell_type": "code",
   "execution_count": 4,
   "metadata": {},
   "outputs": [
    {
     "name": "stdout",
     "output_type": "stream",
     "text": [
      "X_test: (999, 20)\n",
      "y_test: (999, 1)\n",
      "X_train: (3993, 20)\n",
      "y_train: (3993, 1)\n"
     ]
    }
   ],
   "source": [
    "# Shape of Train and Test Data\n",
    "print('X_test:', X_test.shape)\n",
    "print('y_test:', y_test.shape)\n",
    "print('X_train:', X_train.shape)\n",
    "print('y_train:', y_train.shape)"
   ]
  },
  {
   "cell_type": "markdown",
   "metadata": {},
   "source": [
    "## Logistic Regression"
   ]
  },
  {
   "cell_type": "code",
   "execution_count": 5,
   "metadata": {},
   "outputs": [
    {
     "data": {
      "text/html": [
       "<div>\n",
       "<style scoped>\n",
       "    .dataframe tbody tr th:only-of-type {\n",
       "        vertical-align: middle;\n",
       "    }\n",
       "\n",
       "    .dataframe tbody tr th {\n",
       "        vertical-align: top;\n",
       "    }\n",
       "\n",
       "    .dataframe thead th {\n",
       "        text-align: right;\n",
       "    }\n",
       "</style>\n",
       "<table border=\"1\" class=\"dataframe\">\n",
       "  <thead>\n",
       "    <tr style=\"text-align: right;\">\n",
       "      <th></th>\n",
       "      <th>Evaluation Metric</th>\n",
       "      <th>Value</th>\n",
       "    </tr>\n",
       "  </thead>\n",
       "  <tbody>\n",
       "    <tr>\n",
       "      <th>0</th>\n",
       "      <td>Score</td>\n",
       "      <td>0.885550</td>\n",
       "    </tr>\n",
       "    <tr>\n",
       "      <th>1</th>\n",
       "      <td>Accuracy</td>\n",
       "      <td>0.871872</td>\n",
       "    </tr>\n",
       "  </tbody>\n",
       "</table>\n",
       "</div>"
      ],
      "text/plain": [
       "  Evaluation Metric     Value\n",
       "0             Score  0.885550\n",
       "1          Accuracy  0.871872"
      ]
     },
     "execution_count": 5,
     "metadata": {},
     "output_type": "execute_result"
    }
   ],
   "source": [
    "# Create and Fit Model\n",
    "model_logistic = LogisticRegression().fit(X_train, y_train.values.ravel())\n",
    "\n",
    "# Model Prediction\n",
    "y_prediction = model_logistic.predict(X_test)\n",
    "\n",
    "# Model Results\n",
    "model_results = [['Score', model_logistic.score(X_train, y_train.values.ravel())],\n",
    "                 ['Accuracy', metrics.accuracy_score(y_test, y_prediction)]]\n",
    "model_results_logistic = pd.DataFrame(model_results, columns=['Evaluation Metric', 'Value'])\n",
    "model_results_logistic"
   ]
  },
  {
   "cell_type": "markdown",
   "metadata": {},
   "source": [
    "### Synthetic Minority Oversampling Technique (SMOTE)\n",
    "SMOTE will address issues with imbalance by creating synthetic samples from the minor class, and create new observations from randomly chosen k-nearest neighbors"
   ]
  },
  {
   "cell_type": "code",
   "execution_count": 6,
   "metadata": {},
   "outputs": [
    {
     "name": "stdout",
     "output_type": "stream",
     "text": [
      "Length of Oversampled Data:                             5868\n",
      "Number of No Conflict entries in Oversampled Data:      2934\n",
      "Number of Conflict entries in Oversampled Data:         2934\n",
      "Proportion of No Conflict entries in Oversampled Data:  0.5\n",
      "Proportion of Conflict entries in Oversampled Data:     0.5\n"
     ]
    }
   ],
   "source": [
    "# Synthetic Minority Oversampling Technique (SMOTE)\n",
    "oversample = SMOTE(random_state=0)\n",
    "X_oversampled_smote, y_oversampled_smote = oversample.fit_sample(X_train, y_train)\n",
    "\n",
    "X_oversampled_smote = pd.DataFrame(data=X_oversampled_smote)\n",
    "y_oversampled_smote= pd.DataFrame(data=y_oversampled_smote, columns=['y'])\n",
    "\n",
    "print(\"Length of Oversampled Data:                            \",len(X_oversampled_smote))\n",
    "print(\"Number of No Conflict entries in Oversampled Data:     \",len(y_oversampled_smote[y_oversampled_smote['y']==0]))\n",
    "print(\"Number of Conflict entries in Oversampled Data:        \",len(y_oversampled_smote[y_oversampled_smote['y']==1]))\n",
    "print(\"Proportion of No Conflict entries in Oversampled Data: \",len(y_oversampled_smote[y_oversampled_smote['y']==0])/len(X_oversampled_smote))\n",
    "print(\"Proportion of Conflict entries in Oversampled Data:    \",len(y_oversampled_smote[y_oversampled_smote['y']==1])/len(X_oversampled_smote))"
   ]
  },
  {
   "cell_type": "markdown",
   "metadata": {},
   "source": [
    "### Adaptive Synthetic (ADASYN)\n",
    "ADASYN will address issues with imbalance in a similar method to SMOTE, in addition to, adding random small values to points to generate slightly more variance."
   ]
  },
  {
   "cell_type": "code",
   "execution_count": 7,
   "metadata": {},
   "outputs": [
    {
     "name": "stdout",
     "output_type": "stream",
     "text": [
      "Length of Oversampled Data:                             5880\n",
      "Number of No Conflict entries in Oversampled Data:      2934\n",
      "Number of Conflict entries in Oversampled Data:         2946\n",
      "Proportion of No Conflict entries in Oversampled Data:  0.4989795918367347\n",
      "Proportion of Conflict entries in Oversampled Data:     0.5010204081632653\n"
     ]
    }
   ],
   "source": [
    "# Adaptive Synthetic (ADASYN)\n",
    "oversample = ADASYN(random_state=0)\n",
    "X_oversampled_adasyn, y_oversampled_adasyn = oversample.fit_sample(X_train, y_train.values.ravel())\n",
    "\n",
    "X_oversampled_adasyn = pd.DataFrame(data=X_oversampled_adasyn)\n",
    "y_oversampled_adasyn = pd.DataFrame(data=y_oversampled_adasyn, columns=['y'])\n",
    "\n",
    "print(\"Length of Oversampled Data:                            \",len(X_oversampled_adasyn))\n",
    "print(\"Number of No Conflict entries in Oversampled Data:     \",len(y_oversampled_adasyn[y_oversampled_adasyn['y']==0]))\n",
    "print(\"Number of Conflict entries in Oversampled Data:        \",len(y_oversampled_adasyn[y_oversampled_adasyn['y']==1]))\n",
    "print(\"Proportion of No Conflict entries in Oversampled Data: \",len(y_oversampled_adasyn[y_oversampled_adasyn['y']==0])/len(X_oversampled_adasyn))\n",
    "print(\"Proportion of Conflict entries in Oversampled Data:    \",len(y_oversampled_adasyn[y_oversampled_adasyn['y']==1])/len(X_oversampled_adasyn))"
   ]
  },
  {
   "cell_type": "markdown",
   "metadata": {},
   "source": [
    "## Logistic Regression with ADASYN"
   ]
  },
  {
   "cell_type": "code",
   "execution_count": 8,
   "metadata": {},
   "outputs": [
    {
     "data": {
      "text/html": [
       "<div>\n",
       "<style scoped>\n",
       "    .dataframe tbody tr th:only-of-type {\n",
       "        vertical-align: middle;\n",
       "    }\n",
       "\n",
       "    .dataframe tbody tr th {\n",
       "        vertical-align: top;\n",
       "    }\n",
       "\n",
       "    .dataframe thead th {\n",
       "        text-align: right;\n",
       "    }\n",
       "</style>\n",
       "<table border=\"1\" class=\"dataframe\">\n",
       "  <thead>\n",
       "    <tr style=\"text-align: right;\">\n",
       "      <th></th>\n",
       "      <th>Evaluation Metric</th>\n",
       "      <th>Value</th>\n",
       "    </tr>\n",
       "  </thead>\n",
       "  <tbody>\n",
       "    <tr>\n",
       "      <th>0</th>\n",
       "      <td>Score</td>\n",
       "      <td>0.74898</td>\n",
       "    </tr>\n",
       "    <tr>\n",
       "      <th>1</th>\n",
       "      <td>Accuracy</td>\n",
       "      <td>0.78979</td>\n",
       "    </tr>\n",
       "  </tbody>\n",
       "</table>\n",
       "</div>"
      ],
      "text/plain": [
       "  Evaluation Metric    Value\n",
       "0             Score  0.74898\n",
       "1          Accuracy  0.78979"
      ]
     },
     "execution_count": 8,
     "metadata": {},
     "output_type": "execute_result"
    }
   ],
   "source": [
    "# Create and Fit Model\n",
    "model_logistic = LogisticRegression().fit(X_oversampled_adasyn, y_oversampled_adasyn.values.ravel())\n",
    "\n",
    "# Model Prediction\n",
    "y_prediction = model_logistic.predict(X_test)\n",
    "\n",
    "# Model Results\n",
    "model_results = [['Score', model_logistic.score(X_oversampled_adasyn, y_oversampled_adasyn)],\n",
    "                 ['Accuracy', metrics.accuracy_score(y_test, y_prediction)]]\n",
    "model_results_logistic = pd.DataFrame(model_results, columns=['Evaluation Metric', 'Value'])\n",
    "model_results_logistic"
   ]
  },
  {
   "cell_type": "markdown",
   "metadata": {},
   "source": [
    "## Hyperparameter Tuning"
   ]
  },
  {
   "cell_type": "code",
   "execution_count": 9,
   "metadata": {},
   "outputs": [
    {
     "name": "stdout",
     "output_type": "stream",
     "text": [
      "Fitting 5 folds for each of 128 candidates, totalling 640 fits\n"
     ]
    },
    {
     "name": "stderr",
     "output_type": "stream",
     "text": [
      "[Parallel(n_jobs=-1)]: Using backend LokyBackend with 2 concurrent workers.\n",
      "[Parallel(n_jobs=-1)]: Done 216 tasks      | elapsed:    4.1s\n"
     ]
    },
    {
     "name": "stdout",
     "output_type": "stream",
     "text": [
      "Best Score:  0.8158994606913481\n",
      "Best Params:  {'C': 1, 'class_weight': {1: 0.6, 0: 0.4}, 'penalty': 'l1', 'solver': 'saga'}\n"
     ]
    },
    {
     "name": "stderr",
     "output_type": "stream",
     "text": [
      "[Parallel(n_jobs=-1)]: Done 640 out of 640 | elapsed:   15.4s finished\n"
     ]
    }
   ],
   "source": [
    "# Grid Search\n",
    "model_logistic = LogisticRegression()\n",
    "\n",
    "penalty = ['l1', 'l2']\n",
    "C = [0.0001, 0.001, 0.01, 0.1, 1, 10, 100, 1000]\n",
    "class_weight = [{1:0.5, 0:0.5}, {1:0.4, 0:0.6}, {1:0.6, 0:0.4}, {1:0.7, 0:0.3}]\n",
    "solver = ['liblinear', 'saga']\n",
    "\n",
    "param_grid = dict(penalty=penalty,\n",
    "                  C=C,\n",
    "                  class_weight=class_weight,\n",
    "                  solver=solver)\n",
    "\n",
    "grid = GridSearchCV(estimator=model_logistic, param_grid=param_grid, scoring='roc_auc', verbose=1, n_jobs=-1)\n",
    "grid_result = grid.fit(X_oversampled_adasyn, y_oversampled_adasyn.values.ravel())\n",
    "\n",
    "print('Best Score: ', grid_result.best_score_)\n",
    "print('Best Params: ', grid_result.best_params_)"
   ]
  },
  {
   "cell_type": "markdown",
   "metadata": {},
   "source": [
    "## Logistic Regression with GridSearch Parameters"
   ]
  },
  {
   "cell_type": "code",
   "execution_count": 10,
   "metadata": {},
   "outputs": [
    {
     "data": {
      "text/html": [
       "<div>\n",
       "<style scoped>\n",
       "    .dataframe tbody tr th:only-of-type {\n",
       "        vertical-align: middle;\n",
       "    }\n",
       "\n",
       "    .dataframe tbody tr th {\n",
       "        vertical-align: top;\n",
       "    }\n",
       "\n",
       "    .dataframe thead th {\n",
       "        text-align: right;\n",
       "    }\n",
       "</style>\n",
       "<table border=\"1\" class=\"dataframe\">\n",
       "  <thead>\n",
       "    <tr style=\"text-align: right;\">\n",
       "      <th></th>\n",
       "      <th>Evaluation Metric</th>\n",
       "      <th>Value</th>\n",
       "    </tr>\n",
       "  </thead>\n",
       "  <tbody>\n",
       "    <tr>\n",
       "      <th>0</th>\n",
       "      <td>Score</td>\n",
       "      <td>0.732653</td>\n",
       "    </tr>\n",
       "    <tr>\n",
       "      <th>1</th>\n",
       "      <td>Accuracy</td>\n",
       "      <td>0.697698</td>\n",
       "    </tr>\n",
       "  </tbody>\n",
       "</table>\n",
       "</div>"
      ],
      "text/plain": [
       "  Evaluation Metric     Value\n",
       "0             Score  0.732653\n",
       "1          Accuracy  0.697698"
      ]
     },
     "execution_count": 10,
     "metadata": {},
     "output_type": "execute_result"
    }
   ],
   "source": [
    "# Create and Fit Model\n",
    "model_logistic = LogisticRegression(C = 0.1, class_weight = {1:0.6, 0:0.4}, penalty = 'l1', solver='saga').fit(X_oversampled_adasyn, y_oversampled_adasyn.values.ravel())\n",
    "\n",
    "# Model Prediction\n",
    "y_prediction = model_logistic.predict(X_test)\n",
    "\n",
    "# Model Results\n",
    "model_results = [['Score', model_logistic.score(X_oversampled_adasyn, y_oversampled_adasyn)],\n",
    "                 ['Accuracy', metrics.accuracy_score(y_test, y_prediction)]]\n",
    "model_results_logistic = pd.DataFrame(model_results, columns=['Evaluation Metric', 'Value'])\n",
    "model_results_logistic"
   ]
  },
  {
   "cell_type": "markdown",
   "metadata": {},
   "source": [
    "## Cross-Validation"
   ]
  },
  {
   "cell_type": "code",
   "execution_count": 11,
   "metadata": {},
   "outputs": [
    {
     "name": "stdout",
     "output_type": "stream",
     "text": [
      "Model Accuracy: 0.86 (+/-  0.06)\n",
      "Model CV Scores:  [0.84684685 0.9029029  0.88777555 0.84268537 0.82364729]\n"
     ]
    }
   ],
   "source": [
    "# Model Scores\n",
    "model_scores = cross_val_score(model_logistic, X, y.values.ravel(), cv=5)\n",
    "\n",
    "print(\"Model Accuracy: %0.2f (+/- % 0.2f)\" % (model_scores.mean(), model_scores.std() * 2))\n",
    "print(\"Model CV Scores: \", model_scores)"
   ]
  },
  {
   "cell_type": "markdown",
   "metadata": {},
   "source": [
    "## Evaluating Model"
   ]
  },
  {
   "cell_type": "code",
   "execution_count": 12,
   "metadata": {},
   "outputs": [
    {
     "data": {
      "text/html": [
       "<div>\n",
       "<style scoped>\n",
       "    .dataframe tbody tr th:only-of-type {\n",
       "        vertical-align: middle;\n",
       "    }\n",
       "\n",
       "    .dataframe tbody tr th {\n",
       "        vertical-align: top;\n",
       "    }\n",
       "\n",
       "    .dataframe thead th {\n",
       "        text-align: right;\n",
       "    }\n",
       "</style>\n",
       "<table border=\"1\" class=\"dataframe\">\n",
       "  <thead>\n",
       "    <tr style=\"text-align: right;\">\n",
       "      <th></th>\n",
       "      <th>precision</th>\n",
       "      <th>recall</th>\n",
       "      <th>f1-score</th>\n",
       "      <th>support</th>\n",
       "    </tr>\n",
       "  </thead>\n",
       "  <tbody>\n",
       "    <tr>\n",
       "      <th>0</th>\n",
       "      <td>0.950893</td>\n",
       "      <td>0.603399</td>\n",
       "      <td>0.738302</td>\n",
       "      <td>706.000000</td>\n",
       "    </tr>\n",
       "    <tr>\n",
       "      <th>1</th>\n",
       "      <td>0.491833</td>\n",
       "      <td>0.924915</td>\n",
       "      <td>0.642180</td>\n",
       "      <td>293.000000</td>\n",
       "    </tr>\n",
       "    <tr>\n",
       "      <th>accuracy</th>\n",
       "      <td>0.697698</td>\n",
       "      <td>0.697698</td>\n",
       "      <td>0.697698</td>\n",
       "      <td>0.697698</td>\n",
       "    </tr>\n",
       "    <tr>\n",
       "      <th>macro avg</th>\n",
       "      <td>0.721363</td>\n",
       "      <td>0.764157</td>\n",
       "      <td>0.690241</td>\n",
       "      <td>999.000000</td>\n",
       "    </tr>\n",
       "    <tr>\n",
       "      <th>weighted avg</th>\n",
       "      <td>0.816254</td>\n",
       "      <td>0.697698</td>\n",
       "      <td>0.710110</td>\n",
       "      <td>999.000000</td>\n",
       "    </tr>\n",
       "  </tbody>\n",
       "</table>\n",
       "</div>"
      ],
      "text/plain": [
       "              precision    recall  f1-score     support\n",
       "0              0.950893  0.603399  0.738302  706.000000\n",
       "1              0.491833  0.924915  0.642180  293.000000\n",
       "accuracy       0.697698  0.697698  0.697698    0.697698\n",
       "macro avg      0.721363  0.764157  0.690241  999.000000\n",
       "weighted avg   0.816254  0.697698  0.710110  999.000000"
      ]
     },
     "execution_count": 12,
     "metadata": {},
     "output_type": "execute_result"
    }
   ],
   "source": [
    "# Classification Report\n",
    "classification_report_logistic_table = classification_report(y_test,y_prediction, output_dict=True)\n",
    "classification_report_logistic_table = pd.DataFrame(classification_report_logistic_table).transpose()\n",
    "classification_report_logistic_table"
   ]
  },
  {
   "cell_type": "code",
   "execution_count": 13,
   "metadata": {
    "scrolled": true
   },
   "outputs": [
    {
     "data": {
      "text/html": [
       "<div>\n",
       "<style scoped>\n",
       "    .dataframe tbody tr th:only-of-type {\n",
       "        vertical-align: middle;\n",
       "    }\n",
       "\n",
       "    .dataframe tbody tr th {\n",
       "        vertical-align: top;\n",
       "    }\n",
       "\n",
       "    .dataframe thead th {\n",
       "        text-align: right;\n",
       "    }\n",
       "</style>\n",
       "<table border=\"1\" class=\"dataframe\">\n",
       "  <thead>\n",
       "    <tr style=\"text-align: right;\">\n",
       "      <th></th>\n",
       "      <th>Coefficient</th>\n",
       "    </tr>\n",
       "  </thead>\n",
       "  <tbody>\n",
       "    <tr>\n",
       "      <th>EG.CFT.ACCS.ZS</th>\n",
       "      <td>0.445957</td>\n",
       "    </tr>\n",
       "    <tr>\n",
       "      <th>EG.ELC.ACCS.RU.ZS</th>\n",
       "      <td>0.311148</td>\n",
       "    </tr>\n",
       "    <tr>\n",
       "      <th>EG.ELC.ACCS.UR.ZS</th>\n",
       "      <td>-0.034117</td>\n",
       "    </tr>\n",
       "    <tr>\n",
       "      <th>EG.FEC.RNEW.ZS</th>\n",
       "      <td>0.411301</td>\n",
       "    </tr>\n",
       "    <tr>\n",
       "      <th>IT.MLT.MAIN.P2</th>\n",
       "      <td>-1.199970</td>\n",
       "    </tr>\n",
       "    <tr>\n",
       "      <th>SE.PRM.CMPT.FE.ZS</th>\n",
       "      <td>-0.193410</td>\n",
       "    </tr>\n",
       "    <tr>\n",
       "      <th>SE.PRM.ENRL.TC.ZS</th>\n",
       "      <td>0.000000</td>\n",
       "    </tr>\n",
       "    <tr>\n",
       "      <th>SE.PRM.NENR</th>\n",
       "      <td>-0.079432</td>\n",
       "    </tr>\n",
       "    <tr>\n",
       "      <th>SE.PRM.TCHR.FE.ZS</th>\n",
       "      <td>0.000000</td>\n",
       "    </tr>\n",
       "    <tr>\n",
       "      <th>SE.SEC.CMPT.LO.FE.ZS</th>\n",
       "      <td>0.000000</td>\n",
       "    </tr>\n",
       "    <tr>\n",
       "      <th>SE.SEC.ENRR</th>\n",
       "      <td>0.000000</td>\n",
       "    </tr>\n",
       "    <tr>\n",
       "      <th>SE.SEC.NENR</th>\n",
       "      <td>0.108654</td>\n",
       "    </tr>\n",
       "    <tr>\n",
       "      <th>SH.ANM.ALLW.ZS</th>\n",
       "      <td>0.402522</td>\n",
       "    </tr>\n",
       "    <tr>\n",
       "      <th>SH.DTH.COMM.ZS</th>\n",
       "      <td>-0.191487</td>\n",
       "    </tr>\n",
       "    <tr>\n",
       "      <th>SH.DYN.0514</th>\n",
       "      <td>0.000000</td>\n",
       "    </tr>\n",
       "    <tr>\n",
       "      <th>SH.STA.BRTC.ZS</th>\n",
       "      <td>-0.037075</td>\n",
       "    </tr>\n",
       "    <tr>\n",
       "      <th>SL.AGR.EMPL.FE.ZS</th>\n",
       "      <td>0.000000</td>\n",
       "    </tr>\n",
       "    <tr>\n",
       "      <th>SP.ADO.TFRT</th>\n",
       "      <td>0.000000</td>\n",
       "    </tr>\n",
       "    <tr>\n",
       "      <th>TM.VAL.MRCH.R6.ZS</th>\n",
       "      <td>0.515611</td>\n",
       "    </tr>\n",
       "    <tr>\n",
       "      <th>TX.VAL.MRCH.R6.ZS</th>\n",
       "      <td>0.446125</td>\n",
       "    </tr>\n",
       "  </tbody>\n",
       "</table>\n",
       "</div>"
      ],
      "text/plain": [
       "                      Coefficient\n",
       "EG.CFT.ACCS.ZS           0.445957\n",
       "EG.ELC.ACCS.RU.ZS        0.311148\n",
       "EG.ELC.ACCS.UR.ZS       -0.034117\n",
       "EG.FEC.RNEW.ZS           0.411301\n",
       "IT.MLT.MAIN.P2          -1.199970\n",
       "SE.PRM.CMPT.FE.ZS       -0.193410\n",
       "SE.PRM.ENRL.TC.ZS        0.000000\n",
       "SE.PRM.NENR             -0.079432\n",
       "SE.PRM.TCHR.FE.ZS        0.000000\n",
       "SE.SEC.CMPT.LO.FE.ZS     0.000000\n",
       "SE.SEC.ENRR              0.000000\n",
       "SE.SEC.NENR              0.108654\n",
       "SH.ANM.ALLW.ZS           0.402522\n",
       "SH.DTH.COMM.ZS          -0.191487\n",
       "SH.DYN.0514              0.000000\n",
       "SH.STA.BRTC.ZS          -0.037075\n",
       "SL.AGR.EMPL.FE.ZS        0.000000\n",
       "SP.ADO.TFRT              0.000000\n",
       "TM.VAL.MRCH.R6.ZS        0.515611\n",
       "TX.VAL.MRCH.R6.ZS        0.446125"
      ]
     },
     "execution_count": 13,
     "metadata": {},
     "output_type": "execute_result"
    }
   ],
   "source": [
    "# Coefficients\n",
    "model_coefficients_logistic_table = pd.DataFrame(model_logistic.coef_.flatten(), X_train.columns, columns=['Coefficient'])\n",
    "model_coefficients_logistic_table"
   ]
  },
  {
   "cell_type": "code",
   "execution_count": 14,
   "metadata": {},
   "outputs": [
    {
     "data": {
      "text/plain": [
       "array([[426, 280],\n",
       "       [ 22, 271]])"
      ]
     },
     "execution_count": 14,
     "metadata": {},
     "output_type": "execute_result"
    }
   ],
   "source": [
    "# Confusion Matrix\n",
    "model_confusion_matrix_logistic = confusion_matrix(y_test, y_prediction)\n",
    "model_confusion_matrix_logistic"
   ]
  },
  {
   "cell_type": "code",
   "execution_count": 15,
   "metadata": {},
   "outputs": [
    {
     "data": {
      "text/plain": [
       "Text(0.5, 257.44, 'Predicted label')"
      ]
     },
     "execution_count": 15,
     "metadata": {},
     "output_type": "execute_result"
    },
    {
     "data": {
      "image/png": "[encoded data removed]",
      "text/plain": [
       "<Figure size 432x288 with 2 Axes>"
      ]
     },
     "metadata": {
      "needs_background": "light"
     },
     "output_type": "display_data"
    }
   ],
   "source": [
    "# Confusion Matrix\n",
    "class_names=[0,1]\n",
    "fig, ax = plt.subplots()\n",
    "tick_marks = np.arange(len(model_confusion_matrix_logistic))\n",
    "plt.xticks(tick_marks, class_names)\n",
    "plt.yticks(tick_marks, class_names)\n",
    "\n",
    "# Heat Map\n",
    "sns.heatmap(pd.DataFrame(model_confusion_matrix_logistic), annot=True, cmap=\"YlGnBu\" ,fmt='g')\n",
    "ax.xaxis.set_label_position(\"top\")\n",
    "plt.tight_layout()\n",
    "plt.title('Confusion matrix', y=1.1)\n",
    "plt.ylabel('Actual label')\n",
    "plt.xlabel('Predicted label')"
   ]
  },
  {
   "cell_type": "code",
   "execution_count": 16,
   "metadata": {},
   "outputs": [
    {
     "data": {
      "image/png": "[encoded data removed]",
      "text/plain": [
       "<Figure size 432x288 with 1 Axes>"
      ]
     },
     "metadata": {
      "needs_background": "light"
     },
     "output_type": "display_data"
    }
   ],
   "source": [
    "# ROC Curve\n",
    "roc_auc_logistic = roc_auc_score(y_test, model_logistic.predict(X_test))\n",
    "fpr, tpr, thresholds = roc_curve(y_test, model_logistic.predict_proba(X_test)[:,1])\n",
    "plt.figure()\n",
    "plt.plot(fpr, tpr, label='Logistic Regression (area = %0.2f)' % roc_auc_logistic)\n",
    "plt.plot([0, 1], [0, 1],'r--')\n",
    "plt.xlim([0.0, 1.0])\n",
    "plt.ylim([0.0, 1.05])\n",
    "plt.xlabel('False Positive Rate')\n",
    "plt.ylabel('True Positive Rate')\n",
    "plt.title('Receiver operating characteristic')\n",
    "plt.legend(loc=\"lower right\")\n",
    "plt.show()"
   ]
  },
  {
   "cell_type": "code",
   "execution_count": null,
   "metadata": {},
   "outputs": [],
   "source": []
  }
 ],
 "metadata": {
  "instance_type": "ml.t3.medium",
  "kernelspec": {
   "display_name": "Python 3 (Data Science)",
   "language": "python",
   "name": "python3__SAGEMAKER_INTERNAL__arn:aws:sagemaker:us-east-2:429704687514:image/datascience-1.0"
  },
  "language_info": {
   "codemirror_mode": {
    "name": "ipython",
    "version": 3
   },
   "file_extension": ".py",
   "mimetype": "text/x-python",
   "name": "python",
   "nbconvert_exporter": "python",
   "pygments_lexer": "ipython3",
   "version": "3.7.6"
  }
 },
 "nbformat": 4,
 "nbformat_minor": 4
}
