{
 "cells": [
  {
   "cell_type": "markdown",
   "metadata": {},
   "source": [
    "# Data Analysis: Outcome Variables"
   ]
  },
  {
   "cell_type": "markdown",
   "metadata": {},
   "source": [
    "## Import Libraries"
   ]
  },
  {
   "cell_type": "code",
   "execution_count": 1,
   "metadata": {},
   "outputs": [],
   "source": [
    "# Import Required Modules and Packages\n",
    "import numpy as np\n",
    "import pandas as pd\n",
    "import seaborn as sns\n",
    "import matplotlib\n",
    "import sys\n",
    "\n",
    "import matplotlib.pyplot as plt "
   ]
  },
  {
   "cell_type": "code",
   "execution_count": 2,
   "metadata": {},
   "outputs": [
    {
     "name": "stdout",
     "output_type": "stream",
     "text": [
      "/root\n"
     ]
    }
   ],
   "source": [
    "cd"
   ]
  },
  {
   "cell_type": "markdown",
   "metadata": {},
   "source": [
    "## Load Data"
   ]
  },
  {
   "cell_type": "code",
   "execution_count": 3,
   "metadata": {},
   "outputs": [],
   "source": [
    "# Upload the Final Data\n",
    "final_data = pd.read_csv('Project/Cleaned/final_data_preprocessed.csv', na_values = ['..'])"
   ]
  },
  {
   "cell_type": "markdown",
   "metadata": {},
   "source": [
    "## Outcome Variables\n",
    "The categorical value, <categorical_conflict_instances>, is a binary variable with a value of 0 being no conflict events and 1 being at least one conflict event of any kind occurring. The continuous value, <continuous_conflict_instances>, is a continuous variable taking the value of the number of conflict events of any kind occurring."
   ]
  },
  {
   "cell_type": "code",
   "execution_count": 4,
   "metadata": {},
   "outputs": [],
   "source": [
    "# Generate Categorical and Continuous Outcome Variables\n",
    "final_data['categorical_conflict_instances'] = 0\n",
    "final_data.loc[final_data['conflict_instances_total'] !=0, 'categorical_conflict_instances'] = 1\n",
    "final_data['continuous_conflict_instances'] = final_data['conflict_instances_total'] \n",
    "final_data_x = final_data.iloc[:,:-16]\n",
    "\n",
    "final_data_y_categorical = pd.DataFrame(final_data.loc[:,'categorical_conflict_instances'])\n",
    "final_data_y_continuous = pd.DataFrame(final_data.loc[:,'continuous_conflict_instances'])\n",
    "final_data_y_categorical.rename(columns = {'categorical_conflict_instances':'y'}, inplace = True) \n",
    "final_data_y_continuous.rename(columns = {'continuous_conflict_instances':'y'}, inplace = True) "
   ]
  },
  {
   "cell_type": "markdown",
   "metadata": {},
   "source": [
    "## Explore Data"
   ]
  },
  {
   "cell_type": "code",
   "execution_count": 5,
   "metadata": {},
   "outputs": [
    {
     "data": {
      "text/html": [
       "<div>\n",
       "<style scoped>\n",
       "    .dataframe tbody tr th:only-of-type {\n",
       "        vertical-align: middle;\n",
       "    }\n",
       "\n",
       "    .dataframe tbody tr th {\n",
       "        vertical-align: top;\n",
       "    }\n",
       "\n",
       "    .dataframe thead th {\n",
       "        text-align: right;\n",
       "    }\n",
       "</style>\n",
       "<table border=\"1\" class=\"dataframe\">\n",
       "  <thead>\n",
       "    <tr style=\"text-align: right;\">\n",
       "      <th></th>\n",
       "      <th>year</th>\n",
       "      <th>AG.AGR.TRAC.NO</th>\n",
       "      <th>AG.CON.FERT.PT.ZS</th>\n",
       "      <th>AG.CON.FERT.ZS</th>\n",
       "      <th>AG.LND.AGRI.K2</th>\n",
       "      <th>AG.LND.AGRI.ZS</th>\n",
       "      <th>AG.LND.ARBL.ZS</th>\n",
       "      <th>AG.LND.CROP.ZS</th>\n",
       "      <th>AG.LND.EL5M.RU.K2</th>\n",
       "      <th>AG.LND.EL5M.RU.ZS</th>\n",
       "      <th>...</th>\n",
       "      <th>conflict_instances_event_6</th>\n",
       "      <th>conflict_fatalities_event_1</th>\n",
       "      <th>conflict_fatalities_event_2</th>\n",
       "      <th>conflict_fatalities_event_3</th>\n",
       "      <th>conflict_fatalities_event_4</th>\n",
       "      <th>conflict_fatalities_event_5</th>\n",
       "      <th>conflict_fatalities_event_6</th>\n",
       "      <th>conflict_instances_total</th>\n",
       "      <th>conflict_fatalities_total</th>\n",
       "      <th>continuous_conflict_instances</th>\n",
       "    </tr>\n",
       "    <tr>\n",
       "      <th>categorical_conflict_instances</th>\n",
       "      <th></th>\n",
       "      <th></th>\n",
       "      <th></th>\n",
       "      <th></th>\n",
       "      <th></th>\n",
       "      <th></th>\n",
       "      <th></th>\n",
       "      <th></th>\n",
       "      <th></th>\n",
       "      <th></th>\n",
       "      <th></th>\n",
       "      <th></th>\n",
       "      <th></th>\n",
       "      <th></th>\n",
       "      <th></th>\n",
       "      <th></th>\n",
       "      <th></th>\n",
       "      <th></th>\n",
       "      <th></th>\n",
       "      <th></th>\n",
       "      <th></th>\n",
       "    </tr>\n",
       "  </thead>\n",
       "  <tbody>\n",
       "    <tr>\n",
       "      <th>0</th>\n",
       "      <td>2007.375549</td>\n",
       "      <td>212153.710440</td>\n",
       "      <td>2700.303846</td>\n",
       "      <td>547.690659</td>\n",
       "      <td>231515.353297</td>\n",
       "      <td>35.149176</td>\n",
       "      <td>13.781319</td>\n",
       "      <td>4.656319</td>\n",
       "      <td>7075.637363</td>\n",
       "      <td>4.114286</td>\n",
       "      <td>...</td>\n",
       "      <td>0.000000</td>\n",
       "      <td>0.000000</td>\n",
       "      <td>0.000000</td>\n",
       "      <td>0.000000</td>\n",
       "      <td>0.000000</td>\n",
       "      <td>0.000000</td>\n",
       "      <td>0.000000</td>\n",
       "      <td>0.000000</td>\n",
       "      <td>0.000000</td>\n",
       "      <td>0.000000</td>\n",
       "    </tr>\n",
       "    <tr>\n",
       "      <th>1</th>\n",
       "      <td>2009.689349</td>\n",
       "      <td>112176.412722</td>\n",
       "      <td>5415.079142</td>\n",
       "      <td>120.358728</td>\n",
       "      <td>219245.076183</td>\n",
       "      <td>45.139793</td>\n",
       "      <td>13.167160</td>\n",
       "      <td>2.726331</td>\n",
       "      <td>5475.576923</td>\n",
       "      <td>2.099112</td>\n",
       "      <td>...</td>\n",
       "      <td>66.377959</td>\n",
       "      <td>558.821746</td>\n",
       "      <td>182.010355</td>\n",
       "      <td>3.068047</td>\n",
       "      <td>14.721893</td>\n",
       "      <td>1.656805</td>\n",
       "      <td>175.589497</td>\n",
       "      <td>525.128698</td>\n",
       "      <td>935.868343</td>\n",
       "      <td>525.128698</td>\n",
       "    </tr>\n",
       "  </tbody>\n",
       "</table>\n",
       "<p>2 rows × 730 columns</p>\n",
       "</div>"
      ],
      "text/plain": [
       "                                       year  AG.AGR.TRAC.NO  \\\n",
       "categorical_conflict_instances                                \n",
       "0                               2007.375549   212153.710440   \n",
       "1                               2009.689349   112176.412722   \n",
       "\n",
       "                                AG.CON.FERT.PT.ZS  AG.CON.FERT.ZS  \\\n",
       "categorical_conflict_instances                                      \n",
       "0                                     2700.303846      547.690659   \n",
       "1                                     5415.079142      120.358728   \n",
       "\n",
       "                                AG.LND.AGRI.K2  AG.LND.AGRI.ZS  \\\n",
       "categorical_conflict_instances                                   \n",
       "0                                231515.353297       35.149176   \n",
       "1                                219245.076183       45.139793   \n",
       "\n",
       "                                AG.LND.ARBL.ZS  AG.LND.CROP.ZS  \\\n",
       "categorical_conflict_instances                                   \n",
       "0                                    13.781319        4.656319   \n",
       "1                                    13.167160        2.726331   \n",
       "\n",
       "                                AG.LND.EL5M.RU.K2  AG.LND.EL5M.RU.ZS  ...  \\\n",
       "categorical_conflict_instances                                        ...   \n",
       "0                                     7075.637363           4.114286  ...   \n",
       "1                                     5475.576923           2.099112  ...   \n",
       "\n",
       "                                conflict_instances_event_6  \\\n",
       "categorical_conflict_instances                               \n",
       "0                                                 0.000000   \n",
       "1                                                66.377959   \n",
       "\n",
       "                                conflict_fatalities_event_1  \\\n",
       "categorical_conflict_instances                                \n",
       "0                                                  0.000000   \n",
       "1                                                558.821746   \n",
       "\n",
       "                                conflict_fatalities_event_2  \\\n",
       "categorical_conflict_instances                                \n",
       "0                                                  0.000000   \n",
       "1                                                182.010355   \n",
       "\n",
       "                                conflict_fatalities_event_3  \\\n",
       "categorical_conflict_instances                                \n",
       "0                                                  0.000000   \n",
       "1                                                  3.068047   \n",
       "\n",
       "                                conflict_fatalities_event_4  \\\n",
       "categorical_conflict_instances                                \n",
       "0                                                  0.000000   \n",
       "1                                                 14.721893   \n",
       "\n",
       "                                conflict_fatalities_event_5  \\\n",
       "categorical_conflict_instances                                \n",
       "0                                                  0.000000   \n",
       "1                                                  1.656805   \n",
       "\n",
       "                                conflict_fatalities_event_6  \\\n",
       "categorical_conflict_instances                                \n",
       "0                                                  0.000000   \n",
       "1                                                175.589497   \n",
       "\n",
       "                                conflict_instances_total  \\\n",
       "categorical_conflict_instances                             \n",
       "0                                               0.000000   \n",
       "1                                             525.128698   \n",
       "\n",
       "                                conflict_fatalities_total  \\\n",
       "categorical_conflict_instances                              \n",
       "0                                                0.000000   \n",
       "1                                              935.868343   \n",
       "\n",
       "                                continuous_conflict_instances  \n",
       "categorical_conflict_instances                                 \n",
       "0                                                    0.000000  \n",
       "1                                                  525.128698  \n",
       "\n",
       "[2 rows x 730 columns]"
      ]
     },
     "execution_count": 5,
     "metadata": {},
     "output_type": "execute_result"
    }
   ],
   "source": [
    "# Averages for Categorical Outcome Variable\n",
    "final_data.groupby('categorical_conflict_instances').mean()"
   ]
  },
  {
   "cell_type": "code",
   "execution_count": 6,
   "metadata": {},
   "outputs": [
    {
     "data": {
      "image/png": "[encoded data removed]",
      "text/plain": [
       "<Figure size 432x288 with 1 Axes>"
      ]
     },
     "metadata": {
      "needs_background": "light"
     },
     "output_type": "display_data"
    }
   ],
   "source": [
    "# Breakdown for Categorical Outcome Variable\n",
    "sns.countplot(x='categorical_conflict_instances', data=final_data, palette='hls')\n",
    "plt.legend(['No Conflict', 'Conflict'])\n",
    "\n",
    "plt.xlabel('Conflict vs No Conflict')\n",
    "plt.ylabel('Observations')\n",
    "\n",
    "plt.show()"
   ]
  },
  {
   "cell_type": "code",
   "execution_count": 7,
   "metadata": {
    "scrolled": true
   },
   "outputs": [
    {
     "name": "stdout",
     "output_type": "stream",
     "text": [
      "Percentage of Countries and Years with No Conflict:  72.9\n",
      "Percentage of Countries and Years with Conflict:  27.1\n"
     ]
    }
   ],
   "source": [
    "# Percentage of Countries and Years with and without Conflict\n",
    "count_no_conflict = len(final_data[final_data['categorical_conflict_instances']==0])\n",
    "count_conflict = len(final_data[final_data['categorical_conflict_instances']==1])\n",
    "percentage_no_conflict = round(((count_no_conflict/(count_no_conflict+count_conflict))*100),1)\n",
    "percentage_conflict = round(((count_conflict/(count_no_conflict+count_conflict))*100),1)\n",
    "\n",
    "print(\"Percentage of Countries and Years with No Conflict: \", percentage_no_conflict)\n",
    "print(\"Percentage of Countries and Years with Conflict: \", percentage_conflict)"
   ]
  },
  {
   "cell_type": "code",
   "execution_count": 8,
   "metadata": {},
   "outputs": [
    {
     "name": "stdout",
     "output_type": "stream",
     "text": [
      "Shape of Data (Final):  (4992, 732)\n",
      "Shape of Data (Features):  (4992, 716)\n",
      "Shape of Data (Outcome - Categorical):  (4992, 1)\n",
      "Shape of Data (Outcome - Continuous):  (4992, 1)\n"
     ]
    }
   ],
   "source": [
    "# Shape of Data\n",
    "print(\"Shape of Data (Final): \", final_data.shape)\n",
    "print(\"Shape of Data (Features): \", final_data_x.shape)\n",
    "print(\"Shape of Data (Outcome - Categorical): \", final_data_y_categorical.shape)\n",
    "print(\"Shape of Data (Outcome - Continuous): \", final_data_y_continuous.shape)"
   ]
  },
  {
   "cell_type": "markdown",
   "metadata": {},
   "source": [
    "## Save Pre-processed Data"
   ]
  },
  {
   "cell_type": "code",
   "execution_count": 9,
   "metadata": {},
   "outputs": [],
   "source": [
    "# Save Data\n",
    "final_data_x.to_csv('Project/Cleaned/final_data_x.csv')\n",
    "final_data_y_categorical.to_csv('Project/Cleaned/final_data_y_categorical.csv')\n",
    "final_data_y_continuous.to_csv('Project/Cleaned/final_data_y_continuous.csv')"
   ]
  },
  {
   "cell_type": "code",
   "execution_count": null,
   "metadata": {},
   "outputs": [],
   "source": []
  }
 ],
 "metadata": {
  "instance_type": "ml.t3.medium",
  "kernelspec": {
   "display_name": "Python 3 (Data Science)",
   "language": "python",
   "name": "python3__SAGEMAKER_INTERNAL__arn:aws:sagemaker:us-east-2:429704687514:image/datascience-1.0"
  },
  "language_info": {
   "codemirror_mode": {
    "name": "ipython",
    "version": 3
   },
   "file_extension": ".py",
   "mimetype": "text/x-python",
   "name": "python",
   "nbconvert_exporter": "python",
   "pygments_lexer": "ipython3",
   "version": "3.7.6"
  }
 },
 "nbformat": 4,
 "nbformat_minor": 4
}
