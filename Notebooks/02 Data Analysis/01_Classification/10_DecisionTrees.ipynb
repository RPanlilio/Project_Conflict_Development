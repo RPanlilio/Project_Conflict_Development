{
 "cells": [
  {
   "cell_type": "markdown",
   "metadata": {},
   "source": [
    "# Data Analysis (Classification): Decision Trees\n",
    "Decision Tree performs classification by splitting a dataset into smaller and smaller subsets forming a tree structure with decision nodes and leaf nodes."
   ]
  },
  {
   "cell_type": "markdown",
   "metadata": {},
   "source": [
    "## Import Libraries"
   ]
  },
  {
   "cell_type": "code",
   "execution_count": 1,
   "metadata": {},
   "outputs": [],
   "source": [
    "# Import Required Modules and Packages\n",
    "import numpy as np\n",
    "import pandas as pd\n",
    "import seaborn as sns\n",
    "import matplotlib\n",
    "import sys\n",
    "\n",
    "import matplotlib.pyplot as plt \n",
    "from sklearn import metrics\n",
    "from sklearn.tree import DecisionTreeClassifier\n",
    "from sklearn.model_selection import cross_val_score, GridSearchCV\n",
    "from sklearn.metrics import r2_score, accuracy_score, mean_squared_error, precision_score, recall_score, roc_auc_score\n",
    "from sklearn.metrics import roc_curve,classification_report, confusion_matrix"
   ]
  },
  {
   "cell_type": "code",
   "execution_count": 2,
   "metadata": {},
   "outputs": [
    {
     "name": "stdout",
     "output_type": "stream",
     "text": [
      "/root\n"
     ]
    }
   ],
   "source": [
    "cd"
   ]
  },
  {
   "cell_type": "markdown",
   "metadata": {},
   "source": [
    "## Load Data"
   ]
  },
  {
   "cell_type": "code",
   "execution_count": 3,
   "metadata": {},
   "outputs": [],
   "source": [
    "# Upload the X and y Data\n",
    "X = pd.read_csv('Project/Cleaned/Classification/X.csv', na_values = ['..'])\n",
    "y = pd.read_csv('Project/Cleaned/Classification/y.csv', na_values = ['..'])\n",
    "X_train = pd.read_csv('Project/Cleaned/Classification/X_train.csv', na_values = ['..'])\n",
    "X_test = pd.read_csv('Project/Cleaned/Classification/X_test.csv', na_values = ['..'])\n",
    "y_train = pd.read_csv('Project/Cleaned/Classification/y_train.csv', na_values = ['..'])\n",
    "y_test = pd.read_csv('Project/Cleaned/Classification/y_test.csv', na_values = ['..'])\n",
    "\n",
    "# Drop Column\n",
    "X.drop(['Unnamed: 0'], axis=1, inplace=True)\n",
    "y.drop(['Unnamed: 0'], axis=1, inplace=True)\n",
    "X_train.drop(['Unnamed: 0'], axis=1, inplace=True)\n",
    "X_test.drop(['Unnamed: 0'], axis=1, inplace=True)\n",
    "y_train.drop(['Unnamed: 0'], axis=1, inplace=True)\n",
    "y_test.drop(['Unnamed: 0'], axis=1, inplace=True)\n",
    "\n",
    "# Load Dictionary\n",
    "dictionary_series = np.load('Project/Cleaned/dictionary_series.npy',allow_pickle='TRUE').item()"
   ]
  },
  {
   "cell_type": "code",
   "execution_count": 4,
   "metadata": {},
   "outputs": [
    {
     "name": "stdout",
     "output_type": "stream",
     "text": [
      "X_test: (999, 20)\n",
      "y_test: (999, 1)\n",
      "X_train: (3993, 20)\n",
      "y_train: (3993, 1)\n"
     ]
    }
   ],
   "source": [
    "# Shape of Train and Test Data\n",
    "print('X_test:', X_test.shape)\n",
    "print('y_test:', y_test.shape)\n",
    "print('X_train:', X_train.shape)\n",
    "print('y_train:', y_train.shape)"
   ]
  },
  {
   "cell_type": "markdown",
   "metadata": {},
   "source": [
    "## Decision Trees"
   ]
  },
  {
   "cell_type": "code",
   "execution_count": 5,
   "metadata": {},
   "outputs": [
    {
     "data": {
      "text/html": [
       "<div>\n",
       "<style scoped>\n",
       "    .dataframe tbody tr th:only-of-type {\n",
       "        vertical-align: middle;\n",
       "    }\n",
       "\n",
       "    .dataframe tbody tr th {\n",
       "        vertical-align: top;\n",
       "    }\n",
       "\n",
       "    .dataframe thead th {\n",
       "        text-align: right;\n",
       "    }\n",
       "</style>\n",
       "<table border=\"1\" class=\"dataframe\">\n",
       "  <thead>\n",
       "    <tr style=\"text-align: right;\">\n",
       "      <th></th>\n",
       "      <th>Evaluation Metric</th>\n",
       "      <th>Value</th>\n",
       "    </tr>\n",
       "  </thead>\n",
       "  <tbody>\n",
       "    <tr>\n",
       "      <th>0</th>\n",
       "      <td>Score</td>\n",
       "      <td>0.993739</td>\n",
       "    </tr>\n",
       "    <tr>\n",
       "      <th>1</th>\n",
       "      <td>Accuracy</td>\n",
       "      <td>0.949950</td>\n",
       "    </tr>\n",
       "  </tbody>\n",
       "</table>\n",
       "</div>"
      ],
      "text/plain": [
       "  Evaluation Metric     Value\n",
       "0             Score  0.993739\n",
       "1          Accuracy  0.949950"
      ]
     },
     "execution_count": 5,
     "metadata": {},
     "output_type": "execute_result"
    }
   ],
   "source": [
    "# Create and Train Model\n",
    "model_dt = DecisionTreeClassifier().fit(X_train,y_train)\n",
    "\n",
    "# Model Prediction\n",
    "y_prediction = model_dt.predict(X_test)\n",
    "\n",
    "# Model Results\n",
    "model_results = [['Score', model_dt.score(X_train, y_train)],\n",
    "                 ['Accuracy', metrics.accuracy_score(y_test, y_prediction)]]\n",
    "model_results_dt = pd.DataFrame(model_results, columns=['Evaluation Metric', 'Value'])\n",
    "model_results_dt"
   ]
  },
  {
   "cell_type": "markdown",
   "metadata": {},
   "source": [
    "## Hyperparameter Tuning "
   ]
  },
  {
   "cell_type": "code",
   "execution_count": 6,
   "metadata": {},
   "outputs": [
    {
     "name": "stdout",
     "output_type": "stream",
     "text": [
      "Best Score:  0.9443994843178032\n",
      "Best Params:  {'criterion': 'gini', 'max_depth': 13}\n"
     ]
    }
   ],
   "source": [
    "# Grid Search\n",
    "model_dt = DecisionTreeClassifier()\n",
    "\n",
    "criterion = [\"gini\", \"entropy\"]\n",
    "max_depth = np.arange(3,15)\n",
    "\n",
    "param_grid = dict(criterion=criterion,\n",
    "                 max_depth=max_depth)\n",
    "\n",
    "grid = GridSearchCV(estimator=model_dt, param_grid=param_grid, cv=5)\n",
    "grid_result = grid.fit(X_train, y_train.values.ravel())\n",
    "\n",
    "print('Best Score: ', grid_result.best_score_)\n",
    "print('Best Params: ', grid_result.best_params_)"
   ]
  },
  {
   "cell_type": "code",
   "execution_count": 7,
   "metadata": {},
   "outputs": [
    {
     "data": {
      "text/plain": [
       "[0.8438438438438438,\n",
       " 0.8848848848848849,\n",
       " 0.8898898898898899,\n",
       " 0.8928928928928929,\n",
       " 0.9009009009009009]"
      ]
     },
     "execution_count": 7,
     "metadata": {},
     "output_type": "execute_result"
    }
   ],
   "source": [
    "# Tuning Depth of Decision Tree\n",
    "max_depth_range = list(range(1, 6))\n",
    "\n",
    "accuracy = []\n",
    "for depth in max_depth_range:\n",
    "    \n",
    "    model = DecisionTreeClassifier(max_depth = depth, \n",
    "                             random_state = 0)\n",
    "    model.fit(X_train, y_train)\n",
    "    score = model.score(X_test, y_test)\n",
    "    accuracy.append(score)\n",
    "accuracy"
   ]
  },
  {
   "cell_type": "code",
   "execution_count": 8,
   "metadata": {},
   "outputs": [
    {
     "name": "stdout",
     "output_type": "stream",
     "text": [
      "Accuracy Scores Max:    0.9009009009009009\n",
      "Optimal Value for Depth:  4\n"
     ]
    },
    {
     "data": {
      "text/html": [
       "<div>\n",
       "<style scoped>\n",
       "    .dataframe tbody tr th:only-of-type {\n",
       "        vertical-align: middle;\n",
       "    }\n",
       "\n",
       "    .dataframe tbody tr th {\n",
       "        vertical-align: top;\n",
       "    }\n",
       "\n",
       "    .dataframe thead th {\n",
       "        text-align: right;\n",
       "    }\n",
       "</style>\n",
       "<table border=\"1\" class=\"dataframe\">\n",
       "  <thead>\n",
       "    <tr style=\"text-align: right;\">\n",
       "      <th></th>\n",
       "      <th>Score</th>\n",
       "    </tr>\n",
       "  </thead>\n",
       "  <tbody>\n",
       "    <tr>\n",
       "      <th>1</th>\n",
       "      <td>0.843844</td>\n",
       "    </tr>\n",
       "    <tr>\n",
       "      <th>2</th>\n",
       "      <td>0.884885</td>\n",
       "    </tr>\n",
       "    <tr>\n",
       "      <th>3</th>\n",
       "      <td>0.889890</td>\n",
       "    </tr>\n",
       "    <tr>\n",
       "      <th>4</th>\n",
       "      <td>0.892893</td>\n",
       "    </tr>\n",
       "    <tr>\n",
       "      <th>5</th>\n",
       "      <td>0.900901</td>\n",
       "    </tr>\n",
       "  </tbody>\n",
       "</table>\n",
       "</div>"
      ],
      "text/plain": [
       "      Score\n",
       "1  0.843844\n",
       "2  0.884885\n",
       "3  0.889890\n",
       "4  0.892893\n",
       "5  0.900901"
      ]
     },
     "execution_count": 8,
     "metadata": {},
     "output_type": "execute_result"
    }
   ],
   "source": [
    "# Tuning Depth of Decision Tree\n",
    "print(\"Accuracy Scores Max:    {}\".format(np.max(accuracy)))\n",
    "print(\"Optimal Value for Depth: \", accuracy.index((np.max(accuracy))))\n",
    "model_depth_range_accuracy_table = pd.DataFrame(accuracy, range(1,6), columns=['Score'])\n",
    "model_depth_range_accuracy_table"
   ]
  },
  {
   "cell_type": "markdown",
   "metadata": {},
   "source": [
    "## Decision Trees with Grid Search Parameters"
   ]
  },
  {
   "cell_type": "code",
   "execution_count": 9,
   "metadata": {},
   "outputs": [
    {
     "data": {
      "text/html": [
       "<div>\n",
       "<style scoped>\n",
       "    .dataframe tbody tr th:only-of-type {\n",
       "        vertical-align: middle;\n",
       "    }\n",
       "\n",
       "    .dataframe tbody tr th {\n",
       "        vertical-align: top;\n",
       "    }\n",
       "\n",
       "    .dataframe thead th {\n",
       "        text-align: right;\n",
       "    }\n",
       "</style>\n",
       "<table border=\"1\" class=\"dataframe\">\n",
       "  <thead>\n",
       "    <tr style=\"text-align: right;\">\n",
       "      <th></th>\n",
       "      <th>Evaluation Metric</th>\n",
       "      <th>Score</th>\n",
       "    </tr>\n",
       "  </thead>\n",
       "  <tbody>\n",
       "    <tr>\n",
       "      <th>0</th>\n",
       "      <td>Accuracy</td>\n",
       "      <td>0.94995</td>\n",
       "    </tr>\n",
       "  </tbody>\n",
       "</table>\n",
       "</div>"
      ],
      "text/plain": [
       "  Evaluation Metric    Score\n",
       "0          Accuracy  0.94995"
      ]
     },
     "execution_count": 9,
     "metadata": {},
     "output_type": "execute_result"
    }
   ],
   "source": [
    "# Create and Train Model\n",
    "model_dt = DecisionTreeClassifier(criterion=\"gini\", max_depth=13).fit(X_train,y_train)\n",
    "\n",
    "# Model Prediction\n",
    "y_prediction = model_dt.predict(X_test)\n",
    "\n",
    "# Model Results\n",
    "model_results = [['Accuracy', metrics.accuracy_score(y_test, y_prediction)]]\n",
    "model_results_dt = pd.DataFrame(model_results, columns=['Evaluation Metric', 'Score'])\n",
    "model_results_dt"
   ]
  },
  {
   "cell_type": "markdown",
   "metadata": {},
   "source": [
    "## Cross-Validation"
   ]
  },
  {
   "cell_type": "code",
   "execution_count": 10,
   "metadata": {},
   "outputs": [
    {
     "name": "stdout",
     "output_type": "stream",
     "text": [
      "Accuracy: 0.84 (+/-  0.05)\n",
      "CV Scores:  [0.83283283 0.86786787 0.86773547 0.83667335 0.80661323]\n"
     ]
    }
   ],
   "source": [
    "# Model Scores\n",
    "model_scores = cross_val_score(model_dt, X, y.values.ravel(), cv=5)\n",
    "\n",
    "print(\"Accuracy: %0.2f (+/- % 0.2f)\" % (model_scores.mean(), model_scores.std() * 2))\n",
    "print(\"CV Scores: \", model_scores)"
   ]
  },
  {
   "cell_type": "markdown",
   "metadata": {},
   "source": [
    "## Feature Importance"
   ]
  },
  {
   "cell_type": "code",
   "execution_count": 11,
   "metadata": {},
   "outputs": [
    {
     "data": {
      "text/html": [
       "<div>\n",
       "<style scoped>\n",
       "    .dataframe tbody tr th:only-of-type {\n",
       "        vertical-align: middle;\n",
       "    }\n",
       "\n",
       "    .dataframe tbody tr th {\n",
       "        vertical-align: top;\n",
       "    }\n",
       "\n",
       "    .dataframe thead th {\n",
       "        text-align: right;\n",
       "    }\n",
       "</style>\n",
       "<table border=\"1\" class=\"dataframe\">\n",
       "  <thead>\n",
       "    <tr style=\"text-align: right;\">\n",
       "      <th></th>\n",
       "      <th>Feature</th>\n",
       "      <th>Importance</th>\n",
       "    </tr>\n",
       "  </thead>\n",
       "  <tbody>\n",
       "    <tr>\n",
       "      <th>4</th>\n",
       "      <td>IT.MLT.MAIN.P2</td>\n",
       "      <td>0.442</td>\n",
       "    </tr>\n",
       "    <tr>\n",
       "      <th>18</th>\n",
       "      <td>TM.VAL.MRCH.R6.ZS</td>\n",
       "      <td>0.168</td>\n",
       "    </tr>\n",
       "    <tr>\n",
       "      <th>8</th>\n",
       "      <td>SE.PRM.TCHR.FE.ZS</td>\n",
       "      <td>0.052</td>\n",
       "    </tr>\n",
       "    <tr>\n",
       "      <th>17</th>\n",
       "      <td>SP.ADO.TFRT</td>\n",
       "      <td>0.045</td>\n",
       "    </tr>\n",
       "    <tr>\n",
       "      <th>16</th>\n",
       "      <td>SL.AGR.EMPL.FE.ZS</td>\n",
       "      <td>0.043</td>\n",
       "    </tr>\n",
       "    <tr>\n",
       "      <th>12</th>\n",
       "      <td>SH.ANM.ALLW.ZS</td>\n",
       "      <td>0.034</td>\n",
       "    </tr>\n",
       "    <tr>\n",
       "      <th>7</th>\n",
       "      <td>SE.PRM.NENR</td>\n",
       "      <td>0.033</td>\n",
       "    </tr>\n",
       "    <tr>\n",
       "      <th>19</th>\n",
       "      <td>TX.VAL.MRCH.R6.ZS</td>\n",
       "      <td>0.032</td>\n",
       "    </tr>\n",
       "    <tr>\n",
       "      <th>3</th>\n",
       "      <td>EG.FEC.RNEW.ZS</td>\n",
       "      <td>0.029</td>\n",
       "    </tr>\n",
       "    <tr>\n",
       "      <th>9</th>\n",
       "      <td>SE.SEC.CMPT.LO.FE.ZS</td>\n",
       "      <td>0.022</td>\n",
       "    </tr>\n",
       "    <tr>\n",
       "      <th>5</th>\n",
       "      <td>SE.PRM.CMPT.FE.ZS</td>\n",
       "      <td>0.019</td>\n",
       "    </tr>\n",
       "    <tr>\n",
       "      <th>14</th>\n",
       "      <td>SH.DYN.0514</td>\n",
       "      <td>0.015</td>\n",
       "    </tr>\n",
       "    <tr>\n",
       "      <th>6</th>\n",
       "      <td>SE.PRM.ENRL.TC.ZS</td>\n",
       "      <td>0.015</td>\n",
       "    </tr>\n",
       "    <tr>\n",
       "      <th>0</th>\n",
       "      <td>EG.CFT.ACCS.ZS</td>\n",
       "      <td>0.012</td>\n",
       "    </tr>\n",
       "    <tr>\n",
       "      <th>2</th>\n",
       "      <td>EG.ELC.ACCS.UR.ZS</td>\n",
       "      <td>0.011</td>\n",
       "    </tr>\n",
       "    <tr>\n",
       "      <th>13</th>\n",
       "      <td>SH.DTH.COMM.ZS</td>\n",
       "      <td>0.010</td>\n",
       "    </tr>\n",
       "    <tr>\n",
       "      <th>10</th>\n",
       "      <td>SE.SEC.ENRR</td>\n",
       "      <td>0.007</td>\n",
       "    </tr>\n",
       "    <tr>\n",
       "      <th>15</th>\n",
       "      <td>SH.STA.BRTC.ZS</td>\n",
       "      <td>0.004</td>\n",
       "    </tr>\n",
       "    <tr>\n",
       "      <th>1</th>\n",
       "      <td>EG.ELC.ACCS.RU.ZS</td>\n",
       "      <td>0.004</td>\n",
       "    </tr>\n",
       "    <tr>\n",
       "      <th>11</th>\n",
       "      <td>SE.SEC.NENR</td>\n",
       "      <td>0.001</td>\n",
       "    </tr>\n",
       "  </tbody>\n",
       "</table>\n",
       "</div>"
      ],
      "text/plain": [
       "                 Feature  Importance\n",
       "4         IT.MLT.MAIN.P2       0.442\n",
       "18     TM.VAL.MRCH.R6.ZS       0.168\n",
       "8      SE.PRM.TCHR.FE.ZS       0.052\n",
       "17           SP.ADO.TFRT       0.045\n",
       "16     SL.AGR.EMPL.FE.ZS       0.043\n",
       "12        SH.ANM.ALLW.ZS       0.034\n",
       "7            SE.PRM.NENR       0.033\n",
       "19     TX.VAL.MRCH.R6.ZS       0.032\n",
       "3         EG.FEC.RNEW.ZS       0.029\n",
       "9   SE.SEC.CMPT.LO.FE.ZS       0.022\n",
       "5      SE.PRM.CMPT.FE.ZS       0.019\n",
       "14           SH.DYN.0514       0.015\n",
       "6      SE.PRM.ENRL.TC.ZS       0.015\n",
       "0         EG.CFT.ACCS.ZS       0.012\n",
       "2      EG.ELC.ACCS.UR.ZS       0.011\n",
       "13        SH.DTH.COMM.ZS       0.010\n",
       "10           SE.SEC.ENRR       0.007\n",
       "15        SH.STA.BRTC.ZS       0.004\n",
       "1      EG.ELC.ACCS.RU.ZS       0.004\n",
       "11           SE.SEC.NENR       0.001"
      ]
     },
     "execution_count": 11,
     "metadata": {},
     "output_type": "execute_result"
    }
   ],
   "source": [
    "# Feature Importance\n",
    "model_dt_featureimportance = pd.DataFrame({'Feature':X_train.columns,'Importance':np.round(model_dt.feature_importances_,3)})\n",
    "model_dt_featureimportance = model_dt_featureimportance.sort_values('Importance',ascending=False)\n",
    "model_dt_featureimportance"
   ]
  },
  {
   "cell_type": "markdown",
   "metadata": {},
   "source": [
    "## Evaluating Model"
   ]
  },
  {
   "cell_type": "code",
   "execution_count": 12,
   "metadata": {},
   "outputs": [
    {
     "data": {
      "text/html": [
       "<div>\n",
       "<style scoped>\n",
       "    .dataframe tbody tr th:only-of-type {\n",
       "        vertical-align: middle;\n",
       "    }\n",
       "\n",
       "    .dataframe tbody tr th {\n",
       "        vertical-align: top;\n",
       "    }\n",
       "\n",
       "    .dataframe thead th {\n",
       "        text-align: right;\n",
       "    }\n",
       "</style>\n",
       "<table border=\"1\" class=\"dataframe\">\n",
       "  <thead>\n",
       "    <tr style=\"text-align: right;\">\n",
       "      <th></th>\n",
       "      <th>precision</th>\n",
       "      <th>recall</th>\n",
       "      <th>f1-score</th>\n",
       "      <th>support</th>\n",
       "    </tr>\n",
       "  </thead>\n",
       "  <tbody>\n",
       "    <tr>\n",
       "      <th>0</th>\n",
       "      <td>0.956825</td>\n",
       "      <td>0.973088</td>\n",
       "      <td>0.964888</td>\n",
       "      <td>706.00000</td>\n",
       "    </tr>\n",
       "    <tr>\n",
       "      <th>1</th>\n",
       "      <td>0.932384</td>\n",
       "      <td>0.894198</td>\n",
       "      <td>0.912892</td>\n",
       "      <td>293.00000</td>\n",
       "    </tr>\n",
       "    <tr>\n",
       "      <th>accuracy</th>\n",
       "      <td>0.949950</td>\n",
       "      <td>0.949950</td>\n",
       "      <td>0.949950</td>\n",
       "      <td>0.94995</td>\n",
       "    </tr>\n",
       "    <tr>\n",
       "      <th>macro avg</th>\n",
       "      <td>0.944604</td>\n",
       "      <td>0.933643</td>\n",
       "      <td>0.938890</td>\n",
       "      <td>999.00000</td>\n",
       "    </tr>\n",
       "    <tr>\n",
       "      <th>weighted avg</th>\n",
       "      <td>0.949656</td>\n",
       "      <td>0.949950</td>\n",
       "      <td>0.949638</td>\n",
       "      <td>999.00000</td>\n",
       "    </tr>\n",
       "  </tbody>\n",
       "</table>\n",
       "</div>"
      ],
      "text/plain": [
       "              precision    recall  f1-score    support\n",
       "0              0.956825  0.973088  0.964888  706.00000\n",
       "1              0.932384  0.894198  0.912892  293.00000\n",
       "accuracy       0.949950  0.949950  0.949950    0.94995\n",
       "macro avg      0.944604  0.933643  0.938890  999.00000\n",
       "weighted avg   0.949656  0.949950  0.949638  999.00000"
      ]
     },
     "execution_count": 12,
     "metadata": {},
     "output_type": "execute_result"
    }
   ],
   "source": [
    "# Classification Report\n",
    "classification_report_dt_table = classification_report(y_test,y_prediction, output_dict=True)\n",
    "classification_report_dt_table = pd.DataFrame(classification_report_dt_table).transpose()\n",
    "classification_report_dt_table"
   ]
  },
  {
   "cell_type": "code",
   "execution_count": 13,
   "metadata": {},
   "outputs": [
    {
     "data": {
      "text/plain": [
       "array([[687,  19],\n",
       "       [ 31, 262]])"
      ]
     },
     "execution_count": 13,
     "metadata": {},
     "output_type": "execute_result"
    }
   ],
   "source": [
    "# Confusion Matrix\n",
    "model_confusion_matrix_dt = confusion_matrix(y_test, y_prediction)\n",
    "model_confusion_matrix_dt"
   ]
  },
  {
   "cell_type": "code",
   "execution_count": 14,
   "metadata": {},
   "outputs": [
    {
     "data": {
      "text/plain": [
       "Text(0.5, 257.44, 'Predicted label')"
      ]
     },
     "execution_count": 14,
     "metadata": {},
     "output_type": "execute_result"
    },
    {
     "data": {
      "image/png": "[encoded data removed]",
      "text/plain": [
       "<Figure size 432x288 with 2 Axes>"
      ]
     },
     "metadata": {
      "needs_background": "light"
     },
     "output_type": "display_data"
    }
   ],
   "source": [
    "# Confusion Matrix\n",
    "class_names=[0,1]\n",
    "fig, ax = plt.subplots()\n",
    "tick_marks = np.arange(len(model_confusion_matrix_dt))\n",
    "plt.xticks(tick_marks, class_names)\n",
    "plt.yticks(tick_marks, class_names)\n",
    "\n",
    "# Heat Map\n",
    "sns.heatmap(pd.DataFrame(model_confusion_matrix_dt), annot=True, cmap=\"YlGnBu\" ,fmt='g')\n",
    "ax.xaxis.set_label_position(\"top\")\n",
    "plt.tight_layout()\n",
    "plt.title('Confusion matrix', y=1.1)\n",
    "plt.ylabel('Actual label')\n",
    "plt.xlabel('Predicted label')"
   ]
  },
  {
   "cell_type": "code",
   "execution_count": 15,
   "metadata": {},
   "outputs": [
    {
     "data": {
      "image/png": "[encoded data removed]",
      "text/plain": [
       "<Figure size 432x288 with 1 Axes>"
      ]
     },
     "metadata": {
      "needs_background": "light"
     },
     "output_type": "display_data"
    }
   ],
   "source": [
    "# ROC Curve\n",
    "roc_auc_dt = roc_auc_score(y_test, model_dt.predict(X_test))\n",
    "fpr, tpr, thresholds = roc_curve(y_test, model_dt.predict_proba(X_test)[:,1])\n",
    "plt.figure()\n",
    "plt.plot(fpr, tpr, label='Decision Tree (area = %0.2f)' % roc_auc_dt)\n",
    "plt.plot([0, 1], [0, 1],'r--')\n",
    "plt.xlim([0.0, 1.0])\n",
    "plt.ylim([0.0, 1.05])\n",
    "plt.xlabel('False Positive Rate')\n",
    "plt.ylabel('True Positive Rate')\n",
    "plt.title('Receiver operating characteristic')\n",
    "plt.legend(loc=\"lower right\")\n",
    "plt.show()"
   ]
  },
  {
   "cell_type": "code",
   "execution_count": null,
   "metadata": {},
   "outputs": [],
   "source": []
  }
 ],
 "metadata": {
  "instance_type": "ml.t3.medium",
  "kernelspec": {
   "display_name": "Python 3 (Data Science)",
   "language": "python",
   "name": "python3__SAGEMAKER_INTERNAL__arn:aws:sagemaker:us-east-2:429704687514:image/datascience-1.0"
  },
  "language_info": {
   "codemirror_mode": {
    "name": "ipython",
    "version": 3
   },
   "file_extension": ".py",
   "mimetype": "text/x-python",
   "name": "python",
   "nbconvert_exporter": "python",
   "pygments_lexer": "ipython3",
   "version": "3.7.6"
  }
 },
 "nbformat": 4,
 "nbformat_minor": 4
}
